{
 "cells": [
  {
   "cell_type": "markdown",
   "metadata": {},
   "source": [
    "# An Introduction to Neural Networks\n",
    "# 01 - Python for Machine Learning\n",
    "\n",
    "<p>\n",
    "    Nesse primeiro tutorial iremos nos familiar com a utilização da linguagem de programação Python 3.x para Machine Learning. <br>Mais específicamente, iremos aprender como:\n",
    "</p>\n",
    "<ul>\n",
    "    <li>Carregar um Conjunto de Dados utilizando a biblioteca Pandas;</li>\n",
    "    <li>Realizar operações matriciais utilizando a biblioteca Numpy;</li>\n",
    "    <li>Construir visualizações dos dados utilizando a biblioteca Pyplot (matplolib);</li>\n",
    "</ul>"
   ]
  },
  {
   "cell_type": "markdown",
   "metadata": {},
   "source": [
    "### Bibliotecas"
   ]
  },
  {
   "cell_type": "code",
   "execution_count": 1,
   "metadata": {
    "collapsed": true
   },
   "outputs": [],
   "source": [
    "import pandas as pd                 # <-- Representação e Manipulação dos Dados\n",
    "import numpy as np                  # <-- Biblioteca para Operações Matriciais e Complexas\n",
    "import matplotlib.pyplot as plt     # <-- Biblioteca para Visualização de Dados\n",
    "\n",
    "# Essa linha abaixo é apenas para que os \n",
    "# plots sejam gerados numa janela separada\n",
    "%matplotlib qt5"
   ]
  },
  {
   "cell_type": "markdown",
   "metadata": {},
   "source": [
    "## Parte 1 - Representação de Dados"
   ]
  },
  {
   "cell_type": "markdown",
   "metadata": {},
   "source": [
    "<p>\n",
    "    Em todos os algoritmos de Machine Learning, nossos modelos serão treinados através de uma alimentação de dados. <br><br>\n",
    "    \n",
    "    Na forma mais comum, os dados são armazenados de forma estruturada: são Tabelas, onde cada arquivo trás uma observação por linha, e cada observação é descrita por um conjunto de atributos, dispostos nas colunas. Em Aprendizagem Supervisionada, a última coluna costuma representar o \"output\" do modelo para cada observação (no caso de Classificação, a última coluna indica a qual classe a observação pertence.\n",
    "</p>"
   ]
  },
  {
   "cell_type": "code",
   "execution_count": 2,
   "metadata": {
    "collapsed": false
   },
   "outputs": [
    {
     "data": {
      "text/html": [
       "<div>\n",
       "<table border=\"1\" class=\"dataframe\">\n",
       "  <thead>\n",
       "    <tr style=\"text-align: right;\">\n",
       "      <th></th>\n",
       "      <th>Sepal Length</th>\n",
       "      <th>Sepal Width</th>\n",
       "      <th>Petal Length</th>\n",
       "      <th>Petal Width</th>\n",
       "      <th>Class</th>\n",
       "    </tr>\n",
       "  </thead>\n",
       "  <tbody>\n",
       "    <tr>\n",
       "      <th>0</th>\n",
       "      <td>5.1</td>\n",
       "      <td>3.5</td>\n",
       "      <td>1.4</td>\n",
       "      <td>0.2</td>\n",
       "      <td>Iris-setosa</td>\n",
       "    </tr>\n",
       "    <tr>\n",
       "      <th>1</th>\n",
       "      <td>4.9</td>\n",
       "      <td>3.0</td>\n",
       "      <td>1.4</td>\n",
       "      <td>0.2</td>\n",
       "      <td>Iris-setosa</td>\n",
       "    </tr>\n",
       "    <tr>\n",
       "      <th>2</th>\n",
       "      <td>4.7</td>\n",
       "      <td>3.2</td>\n",
       "      <td>1.3</td>\n",
       "      <td>0.2</td>\n",
       "      <td>Iris-setosa</td>\n",
       "    </tr>\n",
       "    <tr>\n",
       "      <th>3</th>\n",
       "      <td>4.6</td>\n",
       "      <td>3.1</td>\n",
       "      <td>1.5</td>\n",
       "      <td>0.2</td>\n",
       "      <td>Iris-setosa</td>\n",
       "    </tr>\n",
       "    <tr>\n",
       "      <th>4</th>\n",
       "      <td>5.0</td>\n",
       "      <td>3.6</td>\n",
       "      <td>1.4</td>\n",
       "      <td>0.2</td>\n",
       "      <td>Iris-setosa</td>\n",
       "    </tr>\n",
       "  </tbody>\n",
       "</table>\n",
       "</div>"
      ],
      "text/plain": [
       "   Sepal Length  Sepal Width  Petal Length  Petal Width        Class\n",
       "0           5.1          3.5           1.4          0.2  Iris-setosa\n",
       "1           4.9          3.0           1.4          0.2  Iris-setosa\n",
       "2           4.7          3.2           1.3          0.2  Iris-setosa\n",
       "3           4.6          3.1           1.5          0.2  Iris-setosa\n",
       "4           5.0          3.6           1.4          0.2  Iris-setosa"
      ]
     },
     "execution_count": 2,
     "metadata": {},
     "output_type": "execute_result"
    }
   ],
   "source": [
    "## CARREGANDO OS DADOS ATRAVÉS DE UM ARQUIVO ##\n",
    "data = pd.read_csv('datasets/iris.csv')\n",
    "\n",
    "data.head()"
   ]
  },
  {
   "cell_type": "code",
   "execution_count": 3,
   "metadata": {
    "collapsed": false
   },
   "outputs": [
    {
     "data": {
      "text/html": [
       "<div>\n",
       "<table border=\"1\" class=\"dataframe\">\n",
       "  <thead>\n",
       "    <tr style=\"text-align: right;\">\n",
       "      <th></th>\n",
       "      <th>Sepal Length</th>\n",
       "      <th>Sepal Width</th>\n",
       "      <th>Petal Length</th>\n",
       "      <th>Petal Width</th>\n",
       "    </tr>\n",
       "  </thead>\n",
       "  <tbody>\n",
       "    <tr>\n",
       "      <th>45</th>\n",
       "      <td>4.8</td>\n",
       "      <td>3.0</td>\n",
       "      <td>1.4</td>\n",
       "      <td>0.3</td>\n",
       "    </tr>\n",
       "    <tr>\n",
       "      <th>46</th>\n",
       "      <td>5.1</td>\n",
       "      <td>3.8</td>\n",
       "      <td>1.6</td>\n",
       "      <td>0.2</td>\n",
       "    </tr>\n",
       "    <tr>\n",
       "      <th>47</th>\n",
       "      <td>4.6</td>\n",
       "      <td>3.2</td>\n",
       "      <td>1.4</td>\n",
       "      <td>0.2</td>\n",
       "    </tr>\n",
       "    <tr>\n",
       "      <th>48</th>\n",
       "      <td>5.3</td>\n",
       "      <td>3.7</td>\n",
       "      <td>1.5</td>\n",
       "      <td>0.2</td>\n",
       "    </tr>\n",
       "    <tr>\n",
       "      <th>49</th>\n",
       "      <td>5.0</td>\n",
       "      <td>3.3</td>\n",
       "      <td>1.4</td>\n",
       "      <td>0.2</td>\n",
       "    </tr>\n",
       "  </tbody>\n",
       "</table>\n",
       "</div>"
      ],
      "text/plain": [
       "    Sepal Length  Sepal Width  Petal Length  Petal Width\n",
       "45           4.8          3.0           1.4          0.3\n",
       "46           5.1          3.8           1.6          0.2\n",
       "47           4.6          3.2           1.4          0.2\n",
       "48           5.3          3.7           1.5          0.2\n",
       "49           5.0          3.3           1.4          0.2"
      ]
     },
     "execution_count": 3,
     "metadata": {},
     "output_type": "execute_result"
    }
   ],
   "source": [
    "## ACESSANDO E MANIPULANDO OS DADOS ##\n",
    "# Indexação por posição: dataframe.iloc[<Linha>, <Coluna>]\n",
    "data.iloc[0,0]             # Acessando o elemento [0, 0]\n",
    "data.iloc[:,0]             # Acessando os elementos da coluna [0] de todas as linhas\n",
    "data.iloc[1,0]             # Acessando os elementos da linha [1] de todas as colunas\n",
    "data.iloc[:,-1]            # Acessando a última coluna de todas as linhas\n",
    "data.iloc[-1,3]            # Acessando a ultima linha e coluna 3\n",
    "data.iloc[10:20,:]         # Slice: Acessando todas as colunas de todas as linhas entre 10 e 20\n",
    "data.iloc[135:, :]         # Slice: Acessando todas as colunas da 135ª linha até a última\n",
    "data.iloc[:10,2:4]         # Slice: Acessando da coluna 2 até a 4 da primeira até a 10ª linha\n",
    "data.iloc[-10:, :]         # Slice: Acessando todas as colunas das 10 últimas linhas\n",
    "data.iloc[[2,7,28], :]     # Slice: Acessando todas as colunas dos elementos nas linhas [2,7,28]\n",
    "# E aí por diante...\n",
    "\n",
    "# Indexação por índice/atributo: dataframe.loc[<Índice>, <Atributo>]\n",
    "data.loc[0, \"Class\"]                     # Acesando a coluna \"Class\" do elemento de índice \"0\"\n",
    "data.loc[0:10, \"Petal Length\":\"Class\"]   # Slice: Acessando os índices de 0 a 10, nas colunas \"Petal Length\" a \"Class\"\n",
    "\n",
    "# Indexação por condição: dataframe[<Teste Condicional>]\n",
    "data[data[\"Class\"] == \"Iris-setosa\"]\n",
    "data[data[\"Class\"] == \"Iris-setosa\"].iloc[-5:, :-1]"
   ]
  },
  {
   "cell_type": "code",
   "execution_count": 9,
   "metadata": {
    "collapsed": false
   },
   "outputs": [
    {
     "data": {
      "text/plain": [
       "array([0, 2, 0, 1, 2, 2, 2, 0, 1, 0, 0, 2, 0, 2, 2, 1, 1, 2, 2, 1, 0, 2, 1,\n",
       "       1, 0, 2, 2, 1, 1, 0, 1, 2, 1, 0, 1, 0, 0, 0, 1, 1, 1, 2, 1, 2, 0, 0,\n",
       "       2, 1, 1, 2, 2, 2, 0, 0, 1, 0, 2, 0, 1, 1, 1, 1, 2, 0, 2, 0, 1, 2, 2,\n",
       "       1, 0, 2, 0, 1, 1, 2, 0, 1, 1, 1, 0, 2, 2, 0, 0, 0, 0, 1, 1, 2, 0, 1,\n",
       "       1, 0, 1, 2, 0, 1, 0, 1, 0, 0, 2, 2, 2, 2, 2, 0, 1, 1, 1, 1, 1, 1, 1,\n",
       "       1, 2, 0, 2, 2], dtype=int8)"
      ]
     },
     "execution_count": 9,
     "metadata": {},
     "output_type": "execute_result"
    }
   ],
   "source": [
    "## PRÉ-PROCESSAMENTO DOS DADOS ##\n",
    "# Armazenando as dimensões dos dados\n",
    "m = data.shape[0]\n",
    "n = data.shape[1]-1\n",
    "\n",
    "# Transformando as Classes em Números\n",
    "data[\"Class\"] = data[\"Class\"].astype('category').cat.codes\n",
    "\n",
    "# Separação do Conjunto de Treino e Conjunto de Teste\n",
    "np.random.seed(10) # Só pra a gente poder visualizar a aleatoriedade :P\n",
    "trainingSize = int(0.8 * m)\n",
    "indexes = np.random.randint(0, m, m)\n",
    "\n",
    "trainData = data.iloc[indexes[:trainingSize]]\n",
    "testData = data.iloc[indexes[trainingSize:]]\n",
    "\n",
    "# Obtendo matrizes (formato Numpy) correspondentes\n",
    "X_train = trainData.iloc[:,:-1].values\n",
    "y_train = trainData.iloc[:, -1].values\n",
    "\n",
    "X_test = testData.iloc[:,:-1].values\n",
    "y_test = testData.iloc[:, -1].values"
   ]
  },
  {
   "cell_type": "markdown",
   "metadata": {},
   "source": [
    "### Parte 2 - Operações Matriciais"
   ]
  },
  {
   "cell_type": "markdown",
   "metadata": {},
   "source": [
    "<p>\n",
    "    A Álgebra Linear é nossa aliada em todos os algoritmos de IA. <br><br>\n",
    "    \n",
    "    Apesar de que um conhecimento teórico mais profundo (Espaços Vetoriais, Propriedades Matriciais, etc...) é extremamente desejável, nosso mini-curso apenas irá exigir que você saiba as operações mais elementares entre matrizes. São elas:\n",
    "</p>\n",
    "\n",
    "<h5> Soma/Subtração de Matrizes </h5>\n",
    "<p><i>Condição Necessária: Matrizes de mesma dimensão</i></p>\n",
    "\n",
    "$$\n",
    "    \\begin{bmatrix}\n",
    "     X_{11} & X_{12} \\\\ \n",
    "     X_{21} & X_{22}  \n",
    "    \\end{bmatrix} + \\begin{bmatrix}\n",
    "     Y_{11} & Y_{12} \\\\ \n",
    "     Y_{21} & Y_{22}  \n",
    "    \\end{bmatrix} = \\begin{bmatrix}\n",
    "     X_{11}+Y_{11} & X_{12}+X_{12} \\\\ \n",
    "     X_{21}+X_{21} & X_{22}+X_{22}  \n",
    "    \\end{bmatrix}\n",
    "$$\n",
    "\n",
    "<h5> Multiplicação por Escalar </h5>\n",
    "\n",
    "$$\n",
    "    C * \\begin{bmatrix}\n",
    "     X_{11} & X_{12} \\\\ \n",
    "     X_{21} & X_{22}  \n",
    "    \\end{bmatrix} = \\begin{bmatrix}\n",
    "     C*X_{11} & C*X_{12} \\\\ \n",
    "     C*X_{21} & C*X_{22}  \n",
    "    \\end{bmatrix}\n",
    "$$\n",
    "\n",
    "<h5> Multiplicação Matricial </h5>\n",
    "<p><i>Condição Necessária: número de colunas da primeira matriz igual ao número de linhas da segunda matriz</i></p>\n",
    "\n",
    "$$\n",
    "    \\begin{bmatrix}\n",
    "     X_{11} & X_{12} & X_{13} \\\\ \n",
    "     X_{21} & X_{22} & X_{23}\n",
    "    \\end{bmatrix} + \\begin{bmatrix}\n",
    "     Y_{11} & Y_{12} \\\\ \n",
    "     Y_{21} & Y_{22} \\\\ \n",
    "     Y_{31} & Y_{32}\n",
    "    \\end{bmatrix} = \\begin{bmatrix}\n",
    "     X_{11}*Y_{11} + X_{12}*Y_{21} + X_{13}*Y_{31} & X_{11}*Y_{12} + X_{12}*Y_{22} + X_{13}*Y_{32} \\\\ \n",
    "     X_{21}*Y_{11} + X_{22}*Y_{21} + X_{23}*Y_{31} & X_{21}*Y_{12} + X_{22}*Y_{22} + X_{23}*Y_{32}\n",
    "    \\end{bmatrix}\n",
    "$$"
   ]
  },
  {
   "cell_type": "code",
   "execution_count": 5,
   "metadata": {
    "collapsed": false
   },
   "outputs": [
    {
     "name": "stdout",
     "output_type": "stream",
     "text": [
      "Matriz A:\n",
      " [[ 1  3  7]\n",
      " [ 5 -2  0]] Dimensões: (2, 3)\n",
      "\n",
      "Matriz B:\n",
      " [[-3  4  1]\n",
      " [10  0 -1]] Dimensões: (2, 3)\n",
      "---\n",
      "\n",
      "Soma:\n",
      " [[-2  7  8]\n",
      " [15 -2 -1]]\n",
      "\n",
      "Subtração:\n",
      " [[ 4 -1  6]\n",
      " [-5 -2  1]]\n",
      "---\n",
      "\n",
      "Multiplicação Escalar:\n",
      " [[  5  15  35]\n",
      " [ 25 -10   0]]\n",
      "\n",
      "Invertendo a Matriz:\n",
      " [[  3  -4  -1]\n",
      " [-10   0   1]]\n",
      "\n",
      "---\n",
      "\n",
      "Multiplicação Pointwise:\n",
      " [[-3 12  7]\n",
      " [50  0  0]]\n",
      "---\n",
      "\n",
      "Matriz A^T:\n",
      " [[ 1  5]\n",
      " [ 3 -2]\n",
      " [ 7  0]] Dimensões: (3, 2)\n",
      "\n",
      "Matriz B^T:\n",
      " [[-3 10]\n",
      " [ 4  0]\n",
      " [ 1 -1]] Dimensões: (3, 2)\n",
      "---\n",
      "\n",
      "Multiplicação:\n",
      " [[ 16   3]\n",
      " [-23  50]]\n",
      "Dimensões: (2, 3) * (3, 2)  =  ( 2 , 2 )\n",
      "---\n",
      "\n"
     ]
    }
   ],
   "source": [
    "## OPERAÇÕES MATRICIAIS COM O NUMPY ##\n",
    "# Criando matrizes no Numpy:\n",
    "A = np.array([[1,  3, 7],\n",
    "              [5, -2, 0]])\n",
    "B = np.array([[-3, 4,  1],\n",
    "              [10, 0, -1]])\n",
    "\n",
    "print(\"Matriz A:\\n\", A, \"Dimensões:\", A.shape)\n",
    "print()\n",
    "print(\"Matriz B:\\n\", B, \"Dimensões:\", B.shape)\n",
    "print(\"---\\n\")\n",
    "\n",
    "# Soma/Subtração de Matrizes\n",
    "print(\"Soma:\\n\", A + B)\n",
    "print()\n",
    "print(\"Subtração:\\n\", A - B)\n",
    "print(\"---\\n\")\n",
    "\n",
    "# Multiplicação por Escalar\n",
    "print(\"Multiplicação Escalar:\\n\", 5 * A)\n",
    "print()\n",
    "print(\"Invertendo a Matriz:\\n\", -B)\n",
    "print()\n",
    "print(\"---\\n\")\n",
    "\n",
    "# Multiplicação pointwise de Matrizes (.*)\n",
    "print(\"Multiplicação Pointwise:\\n\", A * B)\n",
    "print(\"---\\n\")\n",
    "\n",
    "# Transpostas\n",
    "print(\"Matriz A^T:\\n\", A.T, \"Dimensões:\", A.T.shape)\n",
    "print()\n",
    "print(\"Matriz B^T:\\n\", B.T, \"Dimensões:\", B.T.shape)\n",
    "print(\"---\\n\")\n",
    "\n",
    "# Multiplicação Matricial (necessário tomar a transposta de B)\n",
    "print(\"Multiplicação:\\n\", np.matmul(A, B.T))\n",
    "print(\"Dimensões:\", A.shape, \"*\", B.T.shape, \" = \", \"(\",A.shape[0], \",\", B.T.shape[1],\")\")\n",
    "print(\"---\\n\")"
   ]
  },
  {
   "cell_type": "markdown",
   "metadata": {},
   "source": [
    "### Parte 3 - Visualização de Dados"
   ]
  },
  {
   "cell_type": "markdown",
   "metadata": {},
   "source": [
    "--> Inserir descrição"
   ]
  },
  {
   "cell_type": "code",
   "execution_count": 6,
   "metadata": {
    "collapsed": false
   },
   "outputs": [],
   "source": [
    "## VISUALIZAÇÃO NÃO-CONDICIONADA COM O MATPLOTLIB ##\n",
    "plt.figure(figsize=[12,5])\n",
    "\n",
    "plt.subplot(1,2,1)\n",
    "plt.title(\"Iris Dataset\")\n",
    "plt.xlabel(\"Setal Length\")\n",
    "plt.ylabel(\"Sepal Length\")\n",
    "\n",
    "plt.scatter(X_train[:,0], X_train[:,1], color=\"#00aedb\", edgecolor=\"#2A2A2A\")\n",
    "\n",
    "plt.subplot(1,2,2)\n",
    "plt.title(\"Iris Dataset\")\n",
    "plt.xlabel(\"Petal Length\")\n",
    "plt.ylabel(\"Pepal Length\")\n",
    "\n",
    "plt.scatter(X_train[:,2], X_train[:,3], color=\"#00aedb\", edgecolor=\"#2A2A2A\")\n",
    "\n",
    "plt.show()"
   ]
  },
  {
   "cell_type": "code",
   "execution_count": 12,
   "metadata": {
    "collapsed": false
   },
   "outputs": [],
   "source": [
    "## VISUALIZAÇÃO CONDICIONADA COM O MATPLOTLIB E NUMPY ##\n",
    "\n",
    "setosa = np.where(y_train == 0)\n",
    "virginica = np.where(y_train == 1)\n",
    "versicolor = np.where(y_train == 2)\n",
    "\n",
    "plt.figure(figsize=[12,5])\n",
    "\n",
    "plt.subplot(1,2,1)\n",
    "plt.title(\"Iris Dataset\")\n",
    "plt.xlabel(\"Setal Length\")\n",
    "plt.ylabel(\"Sepal Length\")\n",
    "\n",
    "plt.scatter(X_train[setosa,0], X_train[setosa,1], marker=\"s\", color=\"#00aedb\", edgecolor=\"#2A2A2A\")\n",
    "plt.scatter(X_train[virginica,0], X_train[virginica,1], marker=\"o\", color=\"#00b159\", edgecolor=\"#2A2A2A\")\n",
    "plt.scatter(X_train[versicolor,0], X_train[versicolor,1], marker=\"^\", color=\"#d11141\", edgecolor=\"#2A2A2A\")\n",
    "\n",
    "plt.subplot(1,2,2)\n",
    "plt.title(\"Iris Dataset\")\n",
    "plt.xlabel(\"Petal Length\")\n",
    "plt.ylabel(\"Pepal Length\")\n",
    "\n",
    "plt.scatter(X_train[setosa,2], X_train[setosa,3], marker=\"s\", color=\"#00aedb\", edgecolor=\"#2A2A2A\")\n",
    "plt.scatter(X_train[virginica,2], X_train[virginica,3], marker=\"o\", color=\"#00b159\", edgecolor=\"#2A2A2A\")\n",
    "plt.scatter(X_train[versicolor,2], X_train[versicolor,3], marker=\"^\", color=\"#d11141\", edgecolor=\"#2A2A2A\")\n",
    "\n",
    "plt.show()"
   ]
  }
 ],
 "metadata": {
  "anaconda-cloud": {},
  "kernelspec": {
   "display_name": "Python [conda root]",
   "language": "python",
   "name": "conda-root-py"
  },
  "language_info": {
   "codemirror_mode": {
    "name": "ipython",
    "version": 3
   },
   "file_extension": ".py",
   "mimetype": "text/x-python",
   "name": "python",
   "nbconvert_exporter": "python",
   "pygments_lexer": "ipython3",
   "version": "3.5.2"
  }
 },
 "nbformat": 4,
 "nbformat_minor": 1
}
