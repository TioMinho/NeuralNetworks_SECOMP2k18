{
 "cells": [
  {
   "cell_type": "markdown",
   "metadata": {},
   "source": [
    "# An Introduction to Neural Networks\n",
    "---\n",
    "# 03 - Multilayer Perceptron\n",
    "\n",
    "Vamos esquentar as coisas!\n",
    "Nesse tutorial, iremos estudar a evolução da Singlelayer Perceptron: a **Multilayer Perceptron** (SLP). Essa é uma das arquiteturas de Rede Neural mais populares até hoje, e é de utilização genérica (pode servir para diversas aplicações).\n",
    "\n",
    "Diferentemente da SLP, que só funciona bem para problemas que são linearmente separáveis, essa Rede Neural é capaz de realizar classificações mais complexas, mesmo que as _decisions boundaries_ tenham formatos menos \"comportados\". Essa característica da MLP advém do fato de que a arquitetura dessa rede possui uma camada extra entre a _Camada de Entrada_ e a _Camada de Saída_, denominada _Camada Oculta_, na qual cada neurônio acumula (como seu Potencial de Rede), uma combinação linear das ativações da camada anterior. Como as ativações são não-lineares (devido à Sigmoide), o Potencial de Rede na camada oculta são transformaçoes não-lineares dos atributos de uma observação. Abaixo, uma illustração da Multilayer Perceptron.\n",
    "\n",
    "<img src=\"../slides/imgs/mlp_01.png\" alt=\"singlelayer perceptron\" width=\"500px\"/>\n",
    "\n",
    "Neste notebook, iremos modificar algumas da funções auxiliares implementadas pelo Singlelayer Perceptron para incluir a ação da Camada Oculta. Além disso, iremos desenvolver o algoritmo especial de treinamento de Redes Neurais multicamadas: o **Backpropagation**. Após isso, exibiremos o comportamento dessa rede a um comum problema de _Classificação Não-Linear_, que não pode ser resolvido por Redes Neurais simples como o SLP.\n",
    "\n",
    "### Sumário\n",
    "* [Parte 1 - Funções Básicas de Redes Neurais Multicamadas](#Parte-1---Funções-Básicas-de-Redes-Neurais-Multicamada)\n",
    "* [Parte 2 - Treinando a Rede Neural Multicamada](#Parte-2---Treinando-a-Rede-Neural-Multicamada)\n",
    "* [Parte 3 - Classificação Binária com MLP](#Parte-3---Classificação-Binária-com-MLP)\n"
   ]
  },
  {
   "cell_type": "markdown",
   "metadata": {},
   "source": [
    "### Bibliotecas, Variáveis Importantes e Funções Auxiliares"
   ]
  },
  {
   "cell_type": "code",
   "execution_count": 10,
   "metadata": {
    "collapsed": true
   },
   "outputs": [],
   "source": [
    "## BIBLIOTECAS ##\n",
    "import pandas as pd                 # <-- Representação e Manipulação dos Dados\n",
    "import numpy as np                  # <-- Biblioteca para Operações Matriciais e Complexas\n",
    "import matplotlib.pyplot as plt     # <-- Biblioteca para Visualização de Dados\n",
    "\n",
    "## VARIÁVEIS IMPORTANTES ##\n",
    "colorpad = [\"#d11141\", \"#00aedb\", \"#00b159\", \"#f37735\", \"#ffc425\"]\n",
    "colorpadBG = [\"#00aedb50\", \"#d1114150\", \"#00b15950\", \"#f3773550\", \"#ffc42550\"]\n",
    "\n",
    "## FUNÇÕES AUXILIARES ##\n",
    "# Plota um fundo colorido para as visualizações\n",
    "def plotContour(X, model, theta, nClasses=2):\n",
    "    x_min, x_max = X[:, 0].min() - 1, X[:, 0].max() + 1\n",
    "    y_min, y_max = X[:, 1].min() - 1, X[:, 1].max() + 1\n",
    "    xx, yy = np.meshgrid(np.arange(x_min, x_max, 0.1),\n",
    "                         np.arange(y_min, y_max, 0.1))\n",
    "\n",
    "    Z = model(np.c_[xx.ravel(), yy.ravel()], theta, False)[-1]\n",
    "    Z = Z.reshape(xx.shape)\n",
    "\n",
    "    plt.contour(xx, yy, Z, colors=\"#2A2A2A\", linewidths=2)\n",
    "    plt.contourf(xx, yy, Z, levels=range(-1,nClasses), colors=colorpadBG)\n",
    "    \n",
    "# Definição da Função Sigmoide\n",
    "def sigmoid(z):\n",
    "    return 1 / (1 + np.exp(-z))\n",
    "\n",
    "# Definição da Função de Cálculo de Acurácia\n",
    "def accuracyFunction(X, y, W):\n",
    "    Y_pred = forward(X, W, False)[-1]\n",
    "    return 100 * (1 - (1 / np.size(y)) * np.sum((Y_pred - y) ** 2))\n",
    "    \n",
    "# Essa linha abaixo é apenas para que os \n",
    "# plots sejam gerados na mesma célula do código\n",
    "%matplotlib inline"
   ]
  },
  {
   "cell_type": "markdown",
   "metadata": {},
   "source": [
    "### Datasets\n",
    "\n",
    "Neste tutorial, utilizaremos um dataset artificial, criado apenas para servir como base à explicação dos conceitos relacionados ao treino de Redes Neurais de multicamadas. \n",
    "\n",
    "**Obs.:** Note como os dados não podem ser separados por uma linha reta, como era o caso dos dados que utilizamos no tutorial do SLP.  \n",
    "**Obs.2:** O código abaixo já está pronto. Para mais detalhes sobre como resgatar e manipular dados de arquivos, refira-se ao Tutorial 01."
   ]
  },
  {
   "cell_type": "code",
   "execution_count": 2,
   "metadata": {
    "collapsed": false
   },
   "outputs": [],
   "source": [
    "## CARREGANDO E PRÉ-PROCESSANDO OS DADOS ##\n",
    "# Carregando os dados a partir do arquivo .csv\n",
    "data = pd.read_csv(\"../datasets/data_02.csv\")\n",
    "\n",
    "# Armazenando as dimensões dos dados\n",
    "m = data.shape[0]\n",
    "n = data.shape[1]-1\n",
    "\n",
    "# Transformando as Classes em Números\n",
    "data[\"Class\"] = data[\"Class\"].astype('category').cat.codes\n",
    "\n",
    "# Separação do Conjunto de Treino e Conjunto de Teste\n",
    "np.random.seed(2)\n",
    "trainingSize = int(0.8 * m)\n",
    "indexes = np.random.randint(0, m, m)\n",
    "\n",
    "trainData = data.iloc[indexes[:trainingSize]]\n",
    "testData = data.iloc[indexes[trainingSize:]]\n",
    "\n",
    "# Obtendo matrizes (formato Numpy) correspondentes\n",
    "X_train = trainData.iloc[:,:-1].values\n",
    "y_train = trainData.iloc[:, -1].values\n",
    "\n",
    "X_test = testData.iloc[:,:-1].values\n",
    "y_test = testData.iloc[:, -1].values"
   ]
  },
  {
   "cell_type": "code",
   "execution_count": 3,
   "metadata": {
    "collapsed": false
   },
   "outputs": [
    {
     "data": {
      "image/png": "[encoded data removed]",
      "text/plain": [
       "<matplotlib.figure.Figure at 0x7fd03ccecc88>"
      ]
     },
     "metadata": {},
     "output_type": "display_data"
    }
   ],
   "source": [
    "## VISUALIZAÇÃO CONDICIONADA COM O MATPLOTLIB E NUMPY ##\n",
    "plt.figure()\n",
    "\n",
    "a_class = np.where(y_train == 1)\n",
    "b_class = np.where(y_train == 0)\n",
    "\n",
    "plt.title(\"Artificial Dataset\"); plt.xlabel(\"$X_1$\"); plt.ylabel(\"$X_2$\")\n",
    "\n",
    "plt.scatter(X_train[a_class,0], X_train[a_class,1], marker=\"s\", color=colorpad[0], edgecolor=\"#2A2A2A\", label=\"Class A\")\n",
    "plt.scatter(X_train[b_class,0], X_train[b_class,1], marker=\"o\", color=colorpad[1], edgecolor=\"#2A2A2A\", label=\"Class B\")\n",
    "\n",
    "plt.legend(bbox_to_anchor=(1.05, 1), loc=2, borderaxespad=0.)\n",
    "plt.show()"
   ]
  },
  {
   "cell_type": "markdown",
   "metadata": {},
   "source": [
    "---\n",
    "## Parte 1 - Funções Básicas de Redes Neurais Multicamada"
   ]
  },
  {
   "cell_type": "markdown",
   "metadata": {
    "collapsed": true
   },
   "source": [
    "As Redes Neurais multicamadas possuem camadas intermediárias (chamadas de _Camadas Ocultas_) que são resultados de um processo de ativação dos neurônios das camadas anteriores. Por esse motivo, a Rede Neural é representada por uma **tensor de pesos** (matriz com 3 ou mais dimensões), onde cada elemento é uma matrix representando as transições entre duas camadas, e cada coluna dessas matrizes representam os pesos das sinapses de uma camada para um neurônio. Assim como anteriormente, essa matriz também precisa ser calculada automaticamente pelo processo de aprendizagem.\n",
    "\n",
    "Para isso, implementaremos as duas principais funções de uma Rede Neural multicamada:\n",
    "\n",
    "* **Forward Propagation (Propagação Direta):** essa função é responsável por realizar a ativação de cada camada da Rede Neural, desde a Camada de Entrada até a Camada de Saída, e retornar o valor armazenado em cada um desses Neurônios. Perceba que o que é o \"passado adiante\" aqui são os sinais de entrada (atributos) de uma observação recebida pela Rede, até obtermos a probabilidade da observação pertencer a cada classe.\n",
    "\n",
    "* **Backpropagation (Propagação Inversa):** esse é o [algoritmo](https://en.wikipedia.org/wiki/Backpropagation#Pseudocode) mais popular para calcular os gradientes dos pesos de uma Rede Neural multicamada. Foi utilizado em Redes Neurais primeiramente em 1986, que foi um evento marcante na história dessa ciência, e até hoje é extremamente popular. Esse algoritmo consiste em calcular, da última até a primeira camada, o erro acumulado em cada Neurônio. Isso é feito ao calcular a diferença entre a classe prevista e a classe real (o erro da Camada de Saída), e então \"passar para trás\" o valor desse erro ponderado pelos pesos de cada ativação. Esses erros podem ser diretamente utilizados para calcular o gradiente (multiplicando o erro pelo valor do atributo), e então utilizar esses gradientes para treinar a rede utilizando Gradiente Descendente.\n",
    "\n",
    "Obs.: Iremos tratar apenas do case onde há uma única Camada Oculta, para facilitar as implementações e explicações.\n",
    "\n",
    "### Forward Propagation"
   ]
  },
  {
   "cell_type": "code",
   "execution_count": 4,
   "metadata": {
    "collapsed": false
   },
   "outputs": [
    {
     "name": "stdout",
     "output_type": "stream",
     "text": [
      "# Resultado das Ativações da Rede Neural #\n",
      "Camada de Entrada:\n",
      " [[ 1.  5.  4.  3.  2.]\n",
      " [ 1.  1.  2.  3.  4.]\n",
      " [ 1. -2.  0.  1. -1.]]\n",
      "Camada Oculta:\n",
      " [[  1.00000000e+00   9.99925154e-01   1.54465265e-01]\n",
      " [  1.00000000e+00   9.70687769e-01   3.33480731e-03]\n",
      " [  1.00000000e+00   5.52778637e-04   5.74442517e-01]]\n",
      "Camada de Saída:\n",
      " [[ 0.98672856]\n",
      " [ 0.98107277]\n",
      " [ 0.95890835]]\n"
     ]
    }
   ],
   "source": [
    "# Definição da Função de Forward Propagation\n",
    "def forward(X, W, probs=True):\n",
    "    if(X.shape[1] != W[0].shape[0]): \n",
    "        X = np.hstack([np.ones([X.shape[0], 1]), X])\n",
    "        \n",
    "    A = []\n",
    "    A.append(X)\n",
    "    for i in range(0, len(W)):\n",
    "        Z = sigmoid(np.matmul(A[-1], W[i]))\n",
    "        if (i < len(W)-1): \n",
    "            Z = np.hstack([np.ones([Z.shape[0], 1]), Z])\n",
    "            \n",
    "        A.append(Z)\n",
    "    \n",
    "    if not probs: A[-1] = (A[-1] > 0.5).astype(int)\n",
    "    return A\n",
    "\n",
    "# Teste da Forward Propagation\n",
    "X = np.array([[ 5, 4, 3,  2],\n",
    "              [ 1, 2, 3,  4],\n",
    "              [-2, 0, 1, -1]])    # Observação\n",
    "W = []                          # Tensor de Pesos\n",
    "W.append(np.array([[0.5,-0.7],\n",
    "                   [  1,   2], \n",
    "                   [  3,  -4],\n",
    "                   [ -4,   3],\n",
    "                   [  2,  -2]]))  # 1ª Matriz: C. Entrada -> C. Oculta \n",
    "W.append(np.array([[2],\n",
    "                   [2],\n",
    "                   [2]]))       # 2ª Matriz: C. Oculta -> C. Saída\n",
    "\n",
    "A = forward(X,W)\n",
    "\n",
    "print(\"# Resultado das Ativações da Rede Neural #\")\n",
    "print(\"Camada de Entrada:\\n\", A[0])\n",
    "print(\"Camada Oculta:\\n\", A[1])\n",
    "print(\"Camada de Saída:\\n\", A[2])"
   ]
  },
  {
   "cell_type": "markdown",
   "metadata": {},
   "source": [
    "### Backpropagation"
   ]
  },
  {
   "cell_type": "code",
   "execution_count": 5,
   "metadata": {
    "collapsed": false
   },
   "outputs": [
    {
     "name": "stdout",
     "output_type": "stream",
     "text": [
      "# Resultado dos Erros da Rede Neural #\n",
      "Erro na Camada Oculta:\n",
      " [[ -2.69258826e-06  -4.03828682e-08]\n",
      " [  5.58219213e-02   1.62713546e-05]\n",
      " [ -4.54040591e-05  -2.00903903e-02]]\n",
      "Erro na Camada de Saída:\n",
      " [[-0.01798881]\n",
      " [ 0.98094884]\n",
      " [-0.04109165]]\n"
     ]
    }
   ],
   "source": [
    "def backprop(A, y, W):\n",
    "    E = []\n",
    "    E.append(A[-1] - y)\n",
    "    for i in range(len(W)-1, 0, -1):\n",
    "        E.append(np.matmul(E[-1], W[i].T) * A[i] * (1-A[i]))\n",
    "        E[-1] = E[-1][:,1:]\n",
    "    return E[::-1]\n",
    "\n",
    "# Teste da Forward Propagation\n",
    "X = np.array([[ 5, 4, 3,  2],\n",
    "              [ 1, 2, 3,  4],\n",
    "              [-2, 0, 1, -1]])    # Observação\n",
    "y = np.array([[1],[0],[1]])     # Classe da Observação\n",
    "W = []                          # Tensor de Pesos\n",
    "W.append(np.array([[0.5,-0.7],\n",
    "                   [  1,   2], \n",
    "                   [  3,  -7],\n",
    "                   [ -4,   3],\n",
    "                   [  2,  -2]]))  # 1ª Matriz: C. Entrada -> C. Oculta \n",
    "W.append(np.array([[2],\n",
    "                   [2],\n",
    "                   [2]]))       # 2ª Matriz: C. Oculta -> C. Saída\n",
    "\n",
    "\n",
    "A = forward(X,W)\n",
    "E = backprop(A,y,W)\n",
    "\n",
    "print(\"# Resultado dos Erros da Rede Neural #\")\n",
    "print(\"Erro na Camada Oculta:\\n\", E[0])\n",
    "print(\"Erro na Camada de Saída:\\n\", E[1])"
   ]
  },
  {
   "cell_type": "markdown",
   "metadata": {},
   "source": [
    "---\n",
    "## Parte 2 - Treinando a Rede Neural Multicamada"
   ]
  },
  {
   "cell_type": "code",
   "execution_count": 11,
   "metadata": {
    "collapsed": false
   },
   "outputs": [],
   "source": [
    "###############################\n",
    "#    Treinamento do MLP    #\n",
    "###############################\n",
    "def mlp_train(X, y, n_hidden, alpha=1e-3, maxIt=50000, tol=1e-5, verbose=False):\n",
    "    # Armazena as dimensões dos dados (m -> exemplos, n -> atributos)\n",
    "    m = X.shape[0]; n = X.shape[1]\n",
    "    \n",
    "    # Define o Histórico de Erros e algumas variáveis auxiliares\n",
    "    errorHist = []\n",
    "    previousMSE = 0\n",
    "    it = 1;\n",
    "    \n",
    "    # Cria um atributo extra para todos os exemplos iguais a x_0 = 1\n",
    "    X = np.hstack([np.ones([m,1]), X])\n",
    "    y = y.reshape(-1,1)\n",
    "    \n",
    "    # Cria o vetor de pesos da Rede Neural (inicialização aleatória)\n",
    "    W = [np.random.randn(n+1, n_hidden), np.random.randn(n_hidden+1, 1)]\n",
    "    \n",
    "    # Realiza o treino por Gradiente Descendente\n",
    "    while(it <= maxIt):\n",
    "        # 1. Calculamos a ativação de todos os neurônios (Forward Propagation) e \n",
    "        #    retropropagamos o erro da predição (Backpropagation)\n",
    "        A = forward(X, W)\n",
    "        E = backprop(A, y, W)\n",
    "        \n",
    "        # 2. Calculamos o erro MSE, a acurácia do modelo e adicionamos o resultado no histórico.\n",
    "        actualMSE = (1/m) * np.sum(E[1]**2)\n",
    "        actualAcc = accuracyFunction(X, y, W)\n",
    "        errorHist.append(actualMSE)\n",
    "        \n",
    "        # 3. Realizamos o passo do Gradiente Descendente.        \n",
    "        for i in range(0, 2):\n",
    "            W[i] = W[i] - (alpha/m) * np.matmul(A[i].T, E[i])\n",
    "        \n",
    "        # 4. Imprimimos o resultado do treinamento a cada 50 épocas.\n",
    "        if(it % 50 == 0 and verbose): \n",
    "            print(\"## Iteration\", it, \"##\")\n",
    "            print(\"MSE: \\t\", actualMSE)\n",
    "            print(\"Accuracy: {0:.3f}%\".format(actualAcc))\n",
    "            print(\"Weights\\nS -> H:\\n\", W[0], \"\\nH -> O:\\n\", W[1])\n",
    "            print(\"\\n\")\n",
    "        \n",
    "        # 5. Verificamos uma possivel convergência do treinamento, e então encerramos o laço.\n",
    "        if(abs(actualMSE - previousMSE) <= tol):\n",
    "            print(\"## Iteration\", it, \"##\")\n",
    "            print(\"!!! Convergence reached !!!\")\n",
    "            print(\"MSE: \\t\", actualMSE)\n",
    "            print(\"Accuracy: {0:.3f}%\".format(actualAcc))\n",
    "            print(\"Weights\\nS -> H:\\n\", W[0], \"\\nH -> O:\\n\", W[1])\n",
    "            print(\"\\n\")\n",
    "            break;\n",
    "            \n",
    "        # 6. Atualizamos as variáveis auxiliares para as próximas iterações.\n",
    "        previousMSE = actualMSE\n",
    "        it +=1\n",
    "    \n",
    "    # Fim do Treinamento\n",
    "    return (W, errorHist)"
   ]
  },
  {
   "cell_type": "markdown",
   "metadata": {},
   "source": [
    "---\n",
    "## Parte 3 - Classificação Binária com MLP"
   ]
  },
  {
   "cell_type": "code",
   "execution_count": 18,
   "metadata": {
    "collapsed": false
   },
   "outputs": [
    {
     "name": "stdout",
     "output_type": "stream",
     "text": [
      "## Iteration 1206 ##\n",
      "!!! Convergence reached !!!\n",
      "MSE: \t 0.0541831127194\n",
      "Accuracy: 93.958%\n",
      "Weights\n",
      "S -> H:\n",
      " [[-1.16976935 -0.1686476  -1.2283604  -0.58991187  1.60213498 -0.95215063\n",
      "   2.73273783 -0.19417682  0.51877433 -1.11100204  1.68107512 -3.13014416\n",
      "   0.48654905  0.87882077  1.79002188 -2.42843844  1.6445677   0.67584608\n",
      "   1.03431988 -1.29354471]\n",
      " [ 0.45389578 -2.48678386 -0.53751363  0.60971761 -0.85660718 -1.70026148\n",
      "   1.01253406  0.24207935  1.39587749 -0.96405604 -0.57593539 -1.398413\n",
      "  -0.29309342  0.55820488  1.06748675 -0.95002599  0.83183241  1.50875839\n",
      "  -2.52387187  0.68284828]\n",
      " [-0.45847137  1.83150338 -0.98176088  2.06727592  0.80438807  0.4711046\n",
      "  -0.83351429 -0.32494311  0.93720422 -0.61900837 -0.77238549 -1.11765922\n",
      "  -0.47645468 -1.14871649 -0.86598404  0.77255293  0.69992314  0.723435\n",
      "  -1.22380033 -1.1871263 ]] \n",
      "H -> O:\n",
      " [[ 1.07953117]\n",
      " [ 0.62278961]\n",
      " [-1.13074098]\n",
      " [-0.32338062]\n",
      " [-1.24034026]\n",
      " [-2.26331176]\n",
      " [ 0.75924257]\n",
      " [-2.35347359]\n",
      " [ 0.35141916]\n",
      " [-0.13625922]\n",
      " [-0.89994657]\n",
      " [ 2.47115223]\n",
      " [-3.83731555]\n",
      " [ 1.55630742]\n",
      " [-1.02765447]\n",
      " [-2.16510037]\n",
      " [ 2.7658103 ]\n",
      " [ 1.64758343]\n",
      " [ 0.68315383]\n",
      " [ 1.10022896]\n",
      " [ 1.69000481]]\n",
      "\n",
      "\n"
     ]
    }
   ],
   "source": [
    "# Execução do Treinamento\n",
    "[W, errorHist] = mlp_train(X_train, y_train, 20, alpha=0.1, verbose=False)"
   ]
  },
  {
   "cell_type": "code",
   "execution_count": 17,
   "metadata": {
    "collapsed": false
   },
   "outputs": [
    {
     "data": {
      "image/png": "[encoded data removed]",
      "text/plain": [
       "<matplotlib.figure.Figure at 0x7fd008d39358>"
      ]
     },
     "metadata": {},
     "output_type": "display_data"
    }
   ],
   "source": [
    "plt.figure()\n",
    "plt.plot(errorHist)\n",
    "plt.show()"
   ]
  },
  {
   "cell_type": "code",
   "execution_count": 16,
   "metadata": {
    "collapsed": false
   },
   "outputs": [
    {
     "data": {
      "image/png": "[encoded data removed]",
      "text/plain": [
       "<matplotlib.figure.Figure at 0x7fd008de0390>"
      ]
     },
     "metadata": {},
     "output_type": "display_data"
    }
   ],
   "source": [
    "## VISUALIZAÇÃO DA CLASSIFICAÇÃO ##\n",
    "plt.figure()\n",
    "\n",
    "plt.title(\"Artificial Dataset\"); plt.xlabel(\"$X_1$\"); plt.ylabel(\"$X_2$\")\n",
    "\n",
    "plotContour(X_train, forward, W)\n",
    "\n",
    "a_class = np.where(y_train == 1)\n",
    "b_class = np.where(y_train == 0)\n",
    "\n",
    "plt.scatter(X_train[a_class,0], X_train[a_class,1], marker=\"s\", color=colorpad[0], edgecolor=\"#2A2A2A\", label=\"Class A\")\n",
    "plt.scatter(X_train[b_class,0], X_train[b_class,1], marker=\"o\", color=colorpad[1], edgecolor=\"#2A2A2A\", label=\"Class B\")\n",
    "\n",
    "plt.legend(bbox_to_anchor=(1.05, 1), loc=2, borderaxespad=0.)\n",
    "plt.show()\n"
   ]
  }
 ],
 "metadata": {
  "anaconda-cloud": {},
  "kernelspec": {
   "display_name": "Python [conda root]",
   "language": "python",
   "name": "conda-root-py"
  },
  "language_info": {
   "codemirror_mode": {
    "name": "ipython",
    "version": 3
   },
   "file_extension": ".py",
   "mimetype": "text/x-python",
   "name": "python",
   "nbconvert_exporter": "python",
   "pygments_lexer": "ipython3",
   "version": "3.5.2"
  }
 },
 "nbformat": 4,
 "nbformat_minor": 1
}
