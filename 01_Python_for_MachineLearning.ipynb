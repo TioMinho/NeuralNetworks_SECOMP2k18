{
 "cells": [
  {
   "cell_type": "markdown",
   "metadata": {},
   "source": [
    "# An Introduction to Neural Networks\n",
    "# 01 - Python for Machine Learning\n",
    "\n",
    "<p>\n",
    "    Nesse primeiro tutorial iremos nos familiar com a utilização da linguagem de programação Python 3.x para Machine Learning. <br>Mais específicamente, iremos aprender como:\n",
    "</p>\n",
    "<ul>\n",
    "    <li>Carregar um Conjunto de Dados utilizando a biblioteca Pandas;</li>\n",
    "    <li>Realizar operações matriciais utilizando a biblioteca Numpy;</li>\n",
    "    <li>Construir visualizações dos dados utilizando a biblioteca Pyplot (matplolib);</li>\n",
    "</ul>"
   ]
  },
  {
   "cell_type": "markdown",
   "metadata": {},
   "source": [
    "### Bibliotecas"
   ]
  },
  {
   "cell_type": "code",
   "execution_count": null,
   "metadata": {
    "collapsed": true
   },
   "outputs": [],
   "source": [
    "import pandas as pd                 # <-- Representação e Manipulação dos Dados\n",
    "import numpy as np                  # <-- Biblioteca para Operações Matriciais e Complexas\n",
    "import matplotlib.pyplot as plt     # <-- Biblioteca para Visualização de Dados\n",
    "\n",
    "# Essa linha abaixo é apenas para que os \n",
    "# plots sejam gerados numa janela separada\n",
    "%matplotlib qt5"
   ]
  },
  {
   "cell_type": "markdown",
   "metadata": {},
   "source": [
    "## Parte 1 - Representação de Dados"
   ]
  },
  {
   "cell_type": "markdown",
   "metadata": {},
   "source": [
    "<p>\n",
    "    Em todos os algoritmos de Machine Learning, nossos modelos serão treinados através de uma alimentação de dados. <br><br>\n",
    "    \n",
    "    Na forma mais comum, os dados são armazenados de forma estruturada: são Tabelas, onde cada arquivo trás uma observação por linha, e cada observação é descrita por um conjunto de atributos, dispostos nas colunas. Em Aprendizagem Supervisionada, a última coluna costuma representar o \"output\" do modelo para cada observação (no caso de Classificação, a última coluna indica a qual classe a observação pertence.\n",
    "</p>"
   ]
  },
  {
   "cell_type": "code",
   "execution_count": null,
   "metadata": {
    "collapsed": false
   },
   "outputs": [],
   "source": [
    "## CARREGANDO OS DADOS ATRAVÉS DE UM ARQUIVO ##\n",
    "# ..."
   ]
  },
  {
   "cell_type": "code",
   "execution_count": null,
   "metadata": {
    "collapsed": false
   },
   "outputs": [],
   "source": [
    "## ACESSANDO E MANIPULANDO OS DADOS ##\n",
    "# Indexação por posição: dataframe.iloc[<Linha>, <Coluna>]\n",
    "# ...\n",
    "\n",
    "# Indexação por índice/atributo: dataframe.loc[<Índice>, <Atributo>]\n",
    "# ...\n",
    "\n",
    "# Indexação por condição: dataframe[<Teste Condicional>]\n",
    "# ..."
   ]
  },
  {
   "cell_type": "code",
   "execution_count": null,
   "metadata": {
    "collapsed": false
   },
   "outputs": [],
   "source": [
    "## PRÉ-PROCESSAMENTO DOS DADOS ##\n",
    "# Armazenando as dimensões dos dados\n",
    "# ...\n",
    "\n",
    "# Transformando as Classes em Números\n",
    "# ...\n",
    "\n",
    "# Separação do Conjunto de Treino e Conjunto de Teste\n",
    "# ...\n",
    "\n",
    "# Obtendo matrizes (formato Numpy) correspondentes\n",
    "# ..."
   ]
  },
  {
   "cell_type": "markdown",
   "metadata": {},
   "source": [
    "### Parte 2 - Operações Matriciais"
   ]
  },
  {
   "cell_type": "markdown",
   "metadata": {},
   "source": [
    "<p>\n",
    "    A Álgebra Linear é nossa aliada em todos os algoritmos de IA. <br><br>\n",
    "    \n",
    "    Apesar de que um conhecimento teórico mais profundo (Espaços Vetoriais, Propriedades Matriciais, etc...) é extremamente desejável, nosso mini-curso apenas irá exigir que você saiba as operações mais elementares entre matrizes. São elas:\n",
    "</p>\n",
    "\n",
    "<h5> Soma/Subtração de Matrizes </h5>\n",
    "<p><i>Condição Necessária: Matrizes de mesma dimensão</i></p>\n",
    "\n",
    "$$\n",
    "    \\begin{bmatrix}\n",
    "     X_{11} & X_{12} \\\\ \n",
    "     X_{21} & X_{22}  \n",
    "    \\end{bmatrix} + \\begin{bmatrix}\n",
    "     Y_{11} & Y_{12} \\\\ \n",
    "     Y_{21} & Y_{22}  \n",
    "    \\end{bmatrix} = \\begin{bmatrix}\n",
    "     X_{11}+Y_{11} & X_{12}+X_{12} \\\\ \n",
    "     X_{21}+X_{21} & X_{22}+X_{22}  \n",
    "    \\end{bmatrix}\n",
    "$$\n",
    "\n",
    "<h5> Multiplicação por Escalar </h5>\n",
    "\n",
    "$$\n",
    "    C * \\begin{bmatrix}\n",
    "     X_{11} & X_{12} \\\\ \n",
    "     X_{21} & X_{22}  \n",
    "    \\end{bmatrix} = \\begin{bmatrix}\n",
    "     C*X_{11} & C*X_{12} \\\\ \n",
    "     C*X_{21} & C*X_{22}  \n",
    "    \\end{bmatrix}\n",
    "$$\n",
    "\n",
    "<h5> Multiplicação Matricial </h5>\n",
    "<p><i>Condição Necessária: número de colunas da primeira matriz igual ao número de linhas da segunda matriz</i></p>\n",
    "\n",
    "$$\n",
    "    \\begin{bmatrix}\n",
    "     X_{11} & X_{12} & X_{13} \\\\ \n",
    "     X_{21} & X_{22} & X_{23}\n",
    "    \\end{bmatrix} + \\begin{bmatrix}\n",
    "     Y_{11} & Y_{12} \\\\ \n",
    "     Y_{21} & Y_{22} \\\\ \n",
    "     Y_{31} & Y_{32}\n",
    "    \\end{bmatrix} = \\begin{bmatrix}\n",
    "     X_{11}*Y_{11} + X_{12}*Y_{21} + X_{13}*Y_{31} & X_{11}*Y_{12} + X_{12}*Y_{22} + X_{13}*Y_{32} \\\\ \n",
    "     X_{21}*Y_{11} + X_{22}*Y_{21} + X_{23}*Y_{31} & X_{21}*Y_{12} + X_{22}*Y_{22} + X_{23}*Y_{32}\n",
    "    \\end{bmatrix}\n",
    "$$"
   ]
  },
  {
   "cell_type": "code",
   "execution_count": null,
   "metadata": {
    "collapsed": false
   },
   "outputs": [],
   "source": [
    "## OPERAÇÕES MATRICIAIS COM O NUMPY ##\n",
    "# Criando matrizes no Numpy:\n",
    "# ...\n",
    "\n",
    "# Soma/Subtração de Matrizes\n",
    "# ...\n",
    "\n",
    "# Multiplicação por Escalar\n",
    "# ...\n",
    "\n",
    "# Multiplicação pointwise de Matrizes (.*)\n",
    "# ...\n",
    "\n",
    "# Transpostas\n",
    "# ...\n",
    "\n",
    "# Multiplicação Matricial (necessário tomar a transposta de B)\n",
    "# ..."
   ]
  },
  {
   "cell_type": "markdown",
   "metadata": {},
   "source": [
    "### Parte 3 - Visualização de Dados"
   ]
  },
  {
   "cell_type": "code",
   "execution_count": null,
   "metadata": {
    "collapsed": false
   },
   "outputs": [],
   "source": [
    "## VISUALIZAÇÃO NÃO-CONDICIONADA COM O MATPLOTLIB ##\n",
    "# ..."
   ]
  },
  {
   "cell_type": "code",
   "execution_count": null,
   "metadata": {
    "collapsed": false
   },
   "outputs": [],
   "source": [
    "## VISUALIZAÇÃO CONDICIONADA COM O MATPLOTLIB E NUMPY ##\n",
    "# ..."
   ]
  }
 ],
 "metadata": {
  "anaconda-cloud": {},
  "kernelspec": {
   "display_name": "Python [conda root]",
   "language": "python",
   "name": "conda-root-py"
  },
  "language_info": {
   "codemirror_mode": {
    "name": "ipython",
    "version": 3
   },
   "file_extension": ".py",
   "mimetype": "text/x-python",
   "name": "python",
   "nbconvert_exporter": "python",
   "pygments_lexer": "ipython3",
   "version": "3.5.2"
  }
 },
 "nbformat": 4,
 "nbformat_minor": 1
}
