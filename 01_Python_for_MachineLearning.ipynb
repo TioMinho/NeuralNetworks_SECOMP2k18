{
 "cells": [
  {
   "cell_type": "markdown",
   "metadata": {},
   "source": [
    "# An Introduction to Neural Networks\n",
    "--------\n",
    "# 01 - Python for Machine Learning\n",
    "\n",
    "Nesse primeiro tutorial iremos nos familiar com a utilização da linguagem de programação **Python 3** para **Machine Learning**.  \n",
    "\n",
    "Mais específicamente, iremos aprender como manipular grandes conjuntos de dados utilizando a biblioteca [Pandas](https://pandas.pydata.org/), como realizar complexas operações matemáticas utilizando a biblioteca [Numpy](http://www.numpy.org/) e, por fim, como criar visualizações intuitivas utilizando a biblioteca [Matplotlib](https://matplotlib.org/).\n",
    "\n",
    "\n",
    "### Sumário\n",
    "* [Parte 1 - Manipulação de Dados](#Parte-1---Representa%C3%A7%C3%A3o-de-Dados)\n",
    "* [Parte 2 - Operações Matemáticas](#Parte-2---Operações-Matemáticas)\n",
    "* [Parte 3 - Visualização de Dados](#Parte-3---Visualização-de-Dados)\n"
   ]
  },
  {
   "cell_type": "markdown",
   "metadata": {},
   "source": [
    "### Bibliotecas"
   ]
  },
  {
   "cell_type": "code",
   "execution_count": null,
   "metadata": {
    "collapsed": true
   },
   "outputs": [],
   "source": [
    "import pandas as pd                 # Representação e Manipulação dos Dados\n",
    "import numpy as np                  # Operações Matriciais e Complexas\n",
    "import matplotlib.pyplot as plt     # Visualização de Dados\n",
    "\n",
    "# Essa linha abaixo é apenas para que os \n",
    "# plots sejam gerados logo abaixo da célula de código\n",
    "%matplotlib inline"
   ]
  },
  {
   "cell_type": "markdown",
   "metadata": {},
   "source": [
    "---\n",
    "## Parte 1 - Representação de Dados"
   ]
  },
  {
   "cell_type": "markdown",
   "metadata": {},
   "source": [
    "Em todos os algoritmos de Machine Learning, nossos modelos serão treinados através de uma alimentação de dados.\n",
    "    \n",
    "Na forma mais comum, os dados são estruturados em Tabelas. Regularmente, esses dados estão armazenados em arquivos onde cada arquivo referente a um fenômeno trás uma observação por cada linha, e para cada observação um conjunto de atributos dispostos nas colunas. Em _Aprendizagem Supervisionada_, a última coluna costuma representar o \"output\" do modelo para cada observação (no caso de Classificação, a última coluna indica a qual \"classe\" a observação pertence).\n",
    "\n",
    "A biblioteca **Pandas** é uma ferramenta ótima para carregar, manipular, processar e representar grandes conjuntos de dados. As células abaixo demonstram diversas formas de utilização das funções dessa bibliotecas para carregar e manipular um conjunto de dados armazenado em um arquivo do tipo CSV. \n",
    "\n",
    "Para mais informações, consulte a [documentação dessa biblioteca](http://pandas.pydata.org/pandas-docs/stable/)."
   ]
  },
  {
   "cell_type": "code",
   "execution_count": null,
   "metadata": {
    "collapsed": false
   },
   "outputs": [],
   "source": [
    "## CARREGANDO OS DADOS ATRAVÉS DE UM ARQUIVO ##\n",
    "# -- SEU CÓDIGO AQUI -- #"
   ]
  },
  {
   "cell_type": "code",
   "execution_count": null,
   "metadata": {
    "collapsed": false
   },
   "outputs": [],
   "source": [
    "## ACESSANDO E MANIPULANDO OS DADOS ##\n",
    "# Indexação por posição: dataframe.iloc[<Linha>, <Coluna>]\n",
    "# -- SEU CÓDIGO AQUI -- #\n",
    "\n",
    "# Indexação por índice/atributo: dataframe.loc[<Índice>, <Atributo>]\n",
    "# -- SEU CÓDIGO AQUI -- #\n",
    "\n",
    "# Indexação por condição: dataframe[<Teste Condicional>]\n",
    "# -- SEU CÓDIGO AQUI -- #"
   ]
  },
  {
   "cell_type": "code",
   "execution_count": null,
   "metadata": {
    "collapsed": false
   },
   "outputs": [],
   "source": [
    "## PRÉ-PROCESSAMENTO DOS DADOS ##\n",
    "# Armazenando as dimensões dos dados\n",
    "# -- SEU CÓDIGO AQUI -- #\n",
    "\n",
    "# Transformando as Classes em Números\n",
    "# -- SEU CÓDIGO AQUI -- #\n",
    "\n",
    "# Separação do Conjunto de Treino e Conjunto de Teste\n",
    "# -- SEU CÓDIGO AQUI -- #\n",
    "\n",
    "# Obtendo matrizes (formato Numpy) correspondentes\n",
    "# -- SEU CÓDIGO AQUI -- #"
   ]
  },
  {
   "cell_type": "markdown",
   "metadata": {},
   "source": [
    "---\n",
    "## Parte 2 - Operações Matemáticas"
   ]
  },
  {
   "cell_type": "markdown",
   "metadata": {},
   "source": [
    "Como estamos trabalhando com conjuntos de dados tabulares, podemos representá-los como matrizes (como visto na célula anterior) e então utilizarmos de técnicas de álgebra linear para processar os dados e implementar os algoritmos desejados. Na realidade, a álgebra linear é uma das ciências que fundamentam toda a área de Machine Learning.\n",
    "    \n",
    "Apesar de que um conhecimento teórico mais profundo (Espaços Vetoriais, Propriedades Matriciais, etc...) é extremamente desejável, este mini-curso apenas irá exigir que você conheça algumas operações matrizes/vetores.\n",
    "\n",
    "**Soma/Subtração de Matrizes**: sejam duas matrizes $\\mathbf{X}$ e $\\mathbf{Y}$, de mesma dimensão (condição necessária!), a soma $\\mathbf{X} + \\mathbf{Y}$ é computada como:\n",
    "\n",
    "$$\n",
    "    \\begin{bmatrix}\n",
    "     X_{11} & X_{12} \\\\ \n",
    "     X_{21} & X_{22}  \n",
    "    \\end{bmatrix} + \\begin{bmatrix}\n",
    "     Y_{11} & Y_{12} \\\\ \n",
    "     Y_{21} & Y_{22}  \n",
    "    \\end{bmatrix} = \\begin{bmatrix}\n",
    "     X_{11}+Y_{11} & X_{12}+X_{12} \\\\ \n",
    "     X_{21}+X_{21} & X_{22}+X_{22}  \n",
    "    \\end{bmatrix}\n",
    "$$\n",
    "\n",
    "**Multiplicação por Escalar**: seja um número escalar $c$ e uma matriz qualquer $\\mathbf{X}$, a multiplicação $c  \\mathbf{X}$ é computada como:\n",
    "\n",
    "$$\n",
    "    c  \\times  \\begin{bmatrix}\n",
    "     X_{11} & X_{12} \\\\ \n",
    "     X_{21} & X_{22}  \n",
    "    \\end{bmatrix} = \\begin{bmatrix}\n",
    "     c \\times X_{11} & c \\times X_{12} \\\\ \n",
    "     c \\times X_{21} & c \\times X_{22}  \n",
    "    \\end{bmatrix}\n",
    "$$\n",
    "\n",
    "**Multiplicação Element-Wise**: sejam duas matrizes $\\mathbf{X}$ e $\\mathbf{Y}$, de mesma dimensão (condição necessária!), a multiplicação elemento-a-elemento $\\mathbf{X}\\ .\\times \\mathbf{Y}$ é computada como:\n",
    "\n",
    "$$\n",
    "    \\begin{bmatrix}\n",
    "     X_{11} & X_{12} \\\\ \n",
    "     X_{21} & X_{22}  \n",
    "    \\end{bmatrix} .\\times \\begin{bmatrix}\n",
    "     Y_{11} & Y_{12} \\\\ \n",
    "     Y_{21} & Y_{22}  \n",
    "    \\end{bmatrix} = \\begin{bmatrix}\n",
    "     X_{11} \\times Y_{11} & X_{12} \\times Y_{12} \\\\ \n",
    "     X_{21} \\times Y_{21} & X_{22} \\times Y_{22}  \n",
    "    \\end{bmatrix}\n",
    "$$\n",
    "\n",
    "**Transposta**: a transposta de uma matriz qualquer **X**, representada por $\\mathbf{X^T}$, é computada como:\n",
    "\n",
    "$$\n",
    "    \\begin{bmatrix}\n",
    "     X_{11} & X_{12} & X_{13} \\\\ \n",
    "     X_{21} & X_{22} & X_{23} \\\\\n",
    "     X_{31} & X_{32} & X_{33}\n",
    "    \\end{bmatrix}^T =\n",
    "     \\begin{bmatrix}\n",
    "     X_{11} & X_{21} & X_{31} \\\\ \n",
    "     X_{12} & X_{22} & X_{32} \\\\\n",
    "     X_{13} & X_{23} & X_{33}\n",
    "    \\end{bmatrix}\n",
    "$$\n",
    "\n",
    "**Multiplicação Matricial**: sejam duas matrizes $\\mathbf{X}$ e $\\mathbf{Y}$, tal que o número de colunas da primeira matriz é igual ao número de linhas da segunda matriz (condição necessária!), a multiplicação $\\mathbf{X} \\times \\mathbf{Y}$ é computada como:\n",
    "\n",
    "$$\n",
    "    \\begin{bmatrix}\n",
    "     X_{11} & X_{12} & X_{13} \\\\ \n",
    "     X_{21} & X_{22} & X_{23}\n",
    "    \\end{bmatrix} \\times \\begin{bmatrix}\n",
    "     Y_{11} & Y_{12} \\\\ \n",
    "     Y_{21} & Y_{22} \\\\ \n",
    "     Y_{31} & Y_{32}\n",
    "    \\end{bmatrix} = \\begin{bmatrix}\n",
    "     X_{11} \\times Y_{11} + X_{12} \\times Y_{21} + X_{13} \\times Y_{31} & X_{11} \\times Y_{12} + X_{12} \\times Y_{22} + X_{13} \\times Y_{32} \\\\ \n",
    "     X_{21} \\times Y_{11} + X_{22} \\times Y_{21} + X_{23} \\times Y_{31} & X_{21} \\times Y_{12} + X_{22} \\times Y_{22} + X_{23} \\times Y_{32}\n",
    "    \\end{bmatrix}\n",
    "$$\n",
    "\n",
    "Todas estas operações (e muitas outras) já estão nativamente incorporadas na biblioteca **Numpy**, e funcionarão perfeitamente contanto que as variáveis utilizadas sejam justamente do tipo específico dessa biblioteca. Além disso, a bibilioteca também dispõe de outras dezenas de complexas operações matemáticas e computacionais, mas que não serão tratadas neste mini-curso.\n",
    "\n",
    "Para mais informações, consulte a [documentação dessa biblioteca](https://docs.scipy.org/doc/numpy-1.14.5/reference/)."
   ]
  },
  {
   "cell_type": "code",
   "execution_count": null,
   "metadata": {
    "collapsed": false
   },
   "outputs": [],
   "source": [
    "## OPERAÇÕES MATRICIAIS COM O NUMPY ##\n",
    "## Criando matrizes no Numpy:\n",
    "A = np.array([[1,  3, 7],\n",
    "              [5, -2, 0]])\n",
    "B = np.array([[-3, 4,  1],\n",
    "              [10, 0, -1]])\n",
    "\n",
    "print(\"Matriz A:\\n\", A, \"\\nDimensões:\", A.shape)\n",
    "print()\n",
    "print(\"Matriz B:\\n\", B, \"\\nDimensões:\", B.shape)\n",
    "print(\"\\n---\\n\")\n",
    "\n",
    "## Soma/Subtração de Matrizes\n",
    "# -- SEU CÓDIGO AQUI -- #\n",
    "\n",
    "## Multiplicação por Escalar\n",
    "# -- SEU CÓDIGO AQUI -- #\n",
    "\n",
    "## Multiplicação element-wise de Matrizes (.*)\n",
    "# Obs.: O operador comum de multiplicação, *, é automaticamente interpretado como o operador de multiplicação \n",
    "#       element-wise quando as matrizes possuem a mesma dimensão.\n",
    "# -- SEU CÓDIGO AQUI -- #\n",
    "\n",
    "## Transpostas\n",
    "# Obs.: O numpy já automaticamente computa um atributo \"T\" para cada matriz que armazena sua transposta.\n",
    "# -- SEU CÓDIGO AQUI -- #\n",
    "\n",
    "## Multiplicação Matricial\n",
    "# Obs.: A função que implementa a multiplicação matricial no numpy é a \"np.matmul\"\n",
    "# Obs.2: Note que precisamos utilizar a transposta de B para que as matrizes estejam na condição necessária.\n",
    "# -- SEU CÓDIGO AQUI -- #"
   ]
  },
  {
   "cell_type": "markdown",
   "metadata": {},
   "source": [
    "---\n",
    "## Parte 3 - Visualização de Dados"
   ]
  },
  {
   "cell_type": "markdown",
   "metadata": {
    "collapsed": true
   },
   "source": [
    "Nossos algoritmos processam conjuntos de dados grandes com certa facilidade. Visualizar os resultados desse processamento, no entanto, pode não ser tão intuitivo a nós, meros humanos.  \n",
    "\n",
    "Dessa forma, sempre que estamos trabalhando com dados é importante dispor de ferramentas que permitam uma rápida e clara visualização dos resultados de qualquer processamento/manipulação realizada, para que possamos avaliar e interpretar aquilo que os algoritmos estão produzindo.\n",
    "\n",
    "A biblioteca **Matplotlib** é equipada com um conjunto de ferramentas para plotar gráficos e permitir a visualização de grandes conjuntos de dados. Seu funcionamento é relativamente intuitivo, e bastante similar com quase todas as outras bibliotecas de visualização que existem.\n",
    "\n",
    "Para mais informações, consulte a [secção de tutoriais da biblioteca](https://matplotlib.org/2.2.2/tutorials/index.html)."
   ]
  },
  {
   "cell_type": "code",
   "execution_count": null,
   "metadata": {
    "collapsed": false
   },
   "outputs": [],
   "source": [
    "## VISUALIZAÇÃO NÃO-CONDICIONADA COM O MATPLOTLIB ##\n",
    "# Obs.: A visualização não-condicionada se refere à plotagem realizada sem nenhum elemento que identifique a que \n",
    "#       classe pertence as observações. É utilizada, principalmente, para analisar a distribuição dos atributos.\n",
    "\n",
    "# -- SEU CÓDIGO AQUI -- #"
   ]
  },
  {
   "cell_type": "code",
   "execution_count": null,
   "metadata": {
    "collapsed": false
   },
   "outputs": [],
   "source": [
    "## VISUALIZAÇÃO CONDICIONADA COM O MATPLOTLIB E NUMPY ##\n",
    "# Obs.: A visualização condicionada se refere à plotagem realizada com as observações identificadas por diferentes\n",
    "#       formas e/ou cores. É utilizada, principalmente, para interpretar a distribuição das classes.\n",
    "\n",
    "# -- SEU CÓDIGO AQUI -- #"
   ]
  }
 ],
 "metadata": {
  "anaconda-cloud": {},
  "kernelspec": {
   "display_name": "Python [conda root]",
   "language": "python",
   "name": "conda-root-py"
  },
  "language_info": {
   "codemirror_mode": {
    "name": "ipython",
    "version": 3
   },
   "file_extension": ".py",
   "mimetype": "text/x-python",
   "name": "python",
   "nbconvert_exporter": "python",
   "pygments_lexer": "ipython3",
   "version": "3.5.2"
  }
 },
 "nbformat": 4,
 "nbformat_minor": 1
}
