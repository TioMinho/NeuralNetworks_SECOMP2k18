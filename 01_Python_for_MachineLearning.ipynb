{
 "cells": [
  {
   "cell_type": "markdown",
   "metadata": {},
   "source": [
    "# An Introduction to Neural Networks\n",
    "--------\n",
    "# 01 - Python for Machine Learning\n",
    "\n",
    "Nesse primeiro tutorial iremos nos familiar com a utilização da linguagem de programação **Python 3** para **Machine Learning**.  \n",
    "\n",
    "Mais específicamente, iremos aprender como manipular grandes conjuntos de dados utilizando a biblioteca [Pandas](https://pandas.pydata.org/), como realizar complexas operações matemáticas utilizando a biblioteca [Numpy](http://www.numpy.org/) e, por fim, como criar visualizações intuitivas utilizando a biblioteca [Matplotlib](https://matplotlib.org/).\n",
    "\n",
    "\n",
    "### Sumário\n",
    "* [Parte 1 - Manipulação de Dados](#Parte-1---Representa%C3%A7%C3%A3o-de-Dados)\n",
    "* [Parte 2 - Operações Matemáticas](#Parte-2---Operações-Matemáticas)\n",
    "* [Parte 3 - Visualização de Dados](#Parte-3---Visualização-de-Dados)\n"
   ]
  },
  {
   "cell_type": "markdown",
   "metadata": {},
   "source": [
    "### Bibliotecas"
   ]
  },
  {
   "cell_type": "code",
   "execution_count": 1,
   "metadata": {
    "collapsed": true
   },
   "outputs": [],
   "source": [
    "import pandas as pd                 # Representação e Manipulação dos Dados\n",
    "import numpy as np                  # Operações Matriciais e Complexas\n",
    "import matplotlib.pyplot as plt     # Visualização de Dados\n",
    "\n",
    "# Essa linha abaixo é apenas para que os \n",
    "# plots sejam gerados logo abaixo da célula de código\n",
    "%matplotlib inline"
   ]
  },
  {
   "cell_type": "markdown",
   "metadata": {},
   "source": [
    "---\n",
    "## Parte 1 - Representação de Dados"
   ]
  },
  {
   "cell_type": "markdown",
   "metadata": {},
   "source": [
    "Em todos os algoritmos de Machine Learning, nossos modelos serão treinados através de uma alimentação de dados.\n",
    "    \n",
    "Na forma mais comum, os dados são estruturados em Tabelas. Regularmente, esses dados estão armazenados em arquivos onde cada arquivo referente a um fenômeno trás uma observação por cada linha, e para cada observação um conjunto de atributos dispostos nas colunas. Em _Aprendizagem Supervisionada_, a última coluna costuma representar o \"output\" do modelo para cada observação (no caso de Classificação, a última coluna indica a qual \"classe\" a observação pertence).\n",
    "\n",
    "A biblioteca **Pandas** é uma ferramenta ótima para carregar, manipular, processar e representar grandes conjuntos de dados. As células abaixo demonstram diversas formas de utilização das funções dessa bibliotecas para carregar e manipular um conjunto de dados armazenado em um arquivo do tipo CSV. \n",
    "\n",
    "Para mais informações, consulte a [documentação dessa biblioteca](http://pandas.pydata.org/pandas-docs/stable/)."
   ]
  },
  {
   "cell_type": "code",
   "execution_count": 2,
   "metadata": {
    "collapsed": false
   },
   "outputs": [
    {
     "data": {
      "text/html": [
       "<div>\n",
       "<table border=\"1\" class=\"dataframe\">\n",
       "  <thead>\n",
       "    <tr style=\"text-align: right;\">\n",
       "      <th></th>\n",
       "      <th>Sepal Length</th>\n",
       "      <th>Sepal Width</th>\n",
       "      <th>Petal Length</th>\n",
       "      <th>Petal Width</th>\n",
       "      <th>Class</th>\n",
       "    </tr>\n",
       "  </thead>\n",
       "  <tbody>\n",
       "    <tr>\n",
       "      <th>0</th>\n",
       "      <td>5.1</td>\n",
       "      <td>3.5</td>\n",
       "      <td>1.4</td>\n",
       "      <td>0.2</td>\n",
       "      <td>Iris-setosa</td>\n",
       "    </tr>\n",
       "    <tr>\n",
       "      <th>1</th>\n",
       "      <td>4.9</td>\n",
       "      <td>3.0</td>\n",
       "      <td>1.4</td>\n",
       "      <td>0.2</td>\n",
       "      <td>Iris-setosa</td>\n",
       "    </tr>\n",
       "    <tr>\n",
       "      <th>2</th>\n",
       "      <td>4.7</td>\n",
       "      <td>3.2</td>\n",
       "      <td>1.3</td>\n",
       "      <td>0.2</td>\n",
       "      <td>Iris-setosa</td>\n",
       "    </tr>\n",
       "    <tr>\n",
       "      <th>3</th>\n",
       "      <td>4.6</td>\n",
       "      <td>3.1</td>\n",
       "      <td>1.5</td>\n",
       "      <td>0.2</td>\n",
       "      <td>Iris-setosa</td>\n",
       "    </tr>\n",
       "    <tr>\n",
       "      <th>4</th>\n",
       "      <td>5.0</td>\n",
       "      <td>3.6</td>\n",
       "      <td>1.4</td>\n",
       "      <td>0.2</td>\n",
       "      <td>Iris-setosa</td>\n",
       "    </tr>\n",
       "  </tbody>\n",
       "</table>\n",
       "</div>"
      ],
      "text/plain": [
       "   Sepal Length  Sepal Width  Petal Length  Petal Width        Class\n",
       "0           5.1          3.5           1.4          0.2  Iris-setosa\n",
       "1           4.9          3.0           1.4          0.2  Iris-setosa\n",
       "2           4.7          3.2           1.3          0.2  Iris-setosa\n",
       "3           4.6          3.1           1.5          0.2  Iris-setosa\n",
       "4           5.0          3.6           1.4          0.2  Iris-setosa"
      ]
     },
     "execution_count": 2,
     "metadata": {},
     "output_type": "execute_result"
    }
   ],
   "source": [
    "## CARREGANDO OS DADOS ATRAVÉS DE UM ARQUIVO ##\n",
    "data = pd.read_csv('datasets/iris.csv')\n",
    "\n",
    "data.head()"
   ]
  },
  {
   "cell_type": "code",
   "execution_count": 3,
   "metadata": {
    "collapsed": false
   },
   "outputs": [
    {
     "data": {
      "text/html": [
       "<div>\n",
       "<table border=\"1\" class=\"dataframe\">\n",
       "  <thead>\n",
       "    <tr style=\"text-align: right;\">\n",
       "      <th></th>\n",
       "      <th>Sepal Length</th>\n",
       "      <th>Sepal Width</th>\n",
       "      <th>Petal Length</th>\n",
       "      <th>Petal Width</th>\n",
       "    </tr>\n",
       "  </thead>\n",
       "  <tbody>\n",
       "    <tr>\n",
       "      <th>45</th>\n",
       "      <td>4.8</td>\n",
       "      <td>3.0</td>\n",
       "      <td>1.4</td>\n",
       "      <td>0.3</td>\n",
       "    </tr>\n",
       "    <tr>\n",
       "      <th>46</th>\n",
       "      <td>5.1</td>\n",
       "      <td>3.8</td>\n",
       "      <td>1.6</td>\n",
       "      <td>0.2</td>\n",
       "    </tr>\n",
       "    <tr>\n",
       "      <th>47</th>\n",
       "      <td>4.6</td>\n",
       "      <td>3.2</td>\n",
       "      <td>1.4</td>\n",
       "      <td>0.2</td>\n",
       "    </tr>\n",
       "    <tr>\n",
       "      <th>48</th>\n",
       "      <td>5.3</td>\n",
       "      <td>3.7</td>\n",
       "      <td>1.5</td>\n",
       "      <td>0.2</td>\n",
       "    </tr>\n",
       "    <tr>\n",
       "      <th>49</th>\n",
       "      <td>5.0</td>\n",
       "      <td>3.3</td>\n",
       "      <td>1.4</td>\n",
       "      <td>0.2</td>\n",
       "    </tr>\n",
       "  </tbody>\n",
       "</table>\n",
       "</div>"
      ],
      "text/plain": [
       "    Sepal Length  Sepal Width  Petal Length  Petal Width\n",
       "45           4.8          3.0           1.4          0.3\n",
       "46           5.1          3.8           1.6          0.2\n",
       "47           4.6          3.2           1.4          0.2\n",
       "48           5.3          3.7           1.5          0.2\n",
       "49           5.0          3.3           1.4          0.2"
      ]
     },
     "execution_count": 3,
     "metadata": {},
     "output_type": "execute_result"
    }
   ],
   "source": [
    "## ACESSANDO E MANIPULANDO OS DADOS ##\n",
    "# Indexação por posição: dataframe.iloc[<Linha>, <Coluna>]\n",
    "data.iloc[0,0]             # Acessando o elemento [0, 0]\n",
    "data.iloc[:,0]             # Acessando os elementos da coluna [0] de todas as linhas\n",
    "data.iloc[1,0]             # Acessando os elementos da linha [1] de todas as colunas\n",
    "data.iloc[:,-1]            # Acessando a última coluna de todas as linhas\n",
    "data.iloc[-1,3]            # Acessando a ultima linha e coluna 3\n",
    "data.iloc[10:20,:]         # Slice: Acessando todas as colunas de todas as linhas entre 10 e 20\n",
    "data.iloc[135:, :]         # Slice: Acessando todas as colunas da 135ª linha até a última\n",
    "data.iloc[:10,2:4]         # Slice: Acessando da coluna 2 até a 4 da primeira até a 10ª linha\n",
    "data.iloc[-10:, :]         # Slice: Acessando todas as colunas das 10 últimas linhas\n",
    "data.iloc[[2,7,28], :]     # Slice: Acessando todas as colunas dos elementos nas linhas [2,7,28]\n",
    "# E aí por diante...\n",
    "\n",
    "# Indexação por índice/atributo: dataframe.loc[<Índice>, <Atributo>]\n",
    "data.loc[0, \"Class\"]                     # Acesando a coluna \"Class\" do elemento de índice \"0\"\n",
    "data.loc[0:10, \"Petal Length\":\"Class\"]   # Slice: Acessando os índices de 0 a 10, nas colunas \"Petal Length\" a \"Class\"\n",
    "\n",
    "# Indexação por condição: dataframe[<Teste Condicional>]\n",
    "data[data[\"Class\"] == \"Iris-setosa\"]\n",
    "data[data[\"Class\"] == \"Iris-setosa\"].iloc[-5:, :-1]"
   ]
  },
  {
   "cell_type": "code",
   "execution_count": 4,
   "metadata": {
    "collapsed": false
   },
   "outputs": [],
   "source": [
    "## PRÉ-PROCESSAMENTO DOS DADOS ##\n",
    "# Armazenando as dimensões dos dados\n",
    "m = data.shape[0]\n",
    "n = data.shape[1]-1\n",
    "\n",
    "# Transformando as Classes em Números\n",
    "data[\"Class\"] = data[\"Class\"].astype('category').cat.codes\n",
    "\n",
    "# Separação do Conjunto de Treino e Conjunto de Teste\n",
    "np.random.seed(10) # Essa função fixa a aleatoriadade pra a gente poder visualizar melhor :P\n",
    "\n",
    "trainingSize = int(0.8 * m)\n",
    "indexes = np.random.randint(0, m, m)\n",
    "\n",
    "trainData = data.iloc[indexes[:trainingSize]]\n",
    "testData = data.iloc[indexes[trainingSize:]]\n",
    "\n",
    "# Obtendo matrizes (formato Numpy) correspondentes\n",
    "X_train = trainData.iloc[:,:-1].values\n",
    "y_train = trainData.iloc[:, -1].values\n",
    "\n",
    "X_test = testData.iloc[:,:-1].values\n",
    "y_test = testData.iloc[:, -1].values"
   ]
  },
  {
   "cell_type": "markdown",
   "metadata": {},
   "source": [
    "---\n",
    "## Parte 2 - Operações Matemáticas"
   ]
  },
  {
   "cell_type": "markdown",
   "metadata": {},
   "source": [
    "Como estamos trabalhando com conjuntos de dados tabulares, podemos representá-los como matrizes (como visto na célula anterior) e então utilizarmos de técnicas de álgebra linear para processar os dados e implementar os algoritmos desejados. Na realidade, a álgebra linear é uma das ciências que fundamentam toda a área de Machine Learning.\n",
    "    \n",
    "Apesar de que um conhecimento teórico mais profundo (Espaços Vetoriais, Propriedades Matriciais, etc...) é extremamente desejável, este mini-curso apenas irá exigir que você conheça algumas operações matrizes/vetores.\n",
    "\n",
    "**Soma/Subtração de Matrizes**: sejam duas matrizes $\\mathbf{X}$ e $\\mathbf{Y}$, de mesma dimensão (condição necessária!), a soma $\\mathbf{X} + \\mathbf{Y}$ é computada como:\n",
    "\n",
    "$$\n",
    "    \\begin{bmatrix}\n",
    "     X_{11} & X_{12} \\\\ \n",
    "     X_{21} & X_{22}  \n",
    "    \\end{bmatrix} + \\begin{bmatrix}\n",
    "     Y_{11} & Y_{12} \\\\ \n",
    "     Y_{21} & Y_{22}  \n",
    "    \\end{bmatrix} = \\begin{bmatrix}\n",
    "     X_{11}+Y_{11} & X_{12}+X_{12} \\\\ \n",
    "     X_{21}+X_{21} & X_{22}+X_{22}  \n",
    "    \\end{bmatrix}\n",
    "$$\n",
    "\n",
    "**Multiplicação por Escalar**: seja um número escalar $c$ e uma matriz qualquer $\\mathbf{X}$, a multiplicação $c  \\mathbf{X}$ é computada como:\n",
    "\n",
    "$$\n",
    "    c  \\times  \\begin{bmatrix}\n",
    "     X_{11} & X_{12} \\\\ \n",
    "     X_{21} & X_{22}  \n",
    "    \\end{bmatrix} = \\begin{bmatrix}\n",
    "     c \\times X_{11} & c \\times X_{12} \\\\ \n",
    "     c \\times X_{21} & c \\times X_{22}  \n",
    "    \\end{bmatrix}\n",
    "$$\n",
    "\n",
    "**Multiplicação Element-Wise**: sejam duas matrizes $\\mathbf{X}$ e $\\mathbf{Y}$, de mesma dimensão (condição necessária!), a multiplicação elemento-a-elemento $\\mathbf{X}\\ .\\times \\mathbf{Y}$ é computada como:\n",
    "\n",
    "$$\n",
    "    \\begin{bmatrix}\n",
    "     X_{11} & X_{12} \\\\ \n",
    "     X_{21} & X_{22}  \n",
    "    \\end{bmatrix} .\\times \\begin{bmatrix}\n",
    "     Y_{11} & Y_{12} \\\\ \n",
    "     Y_{21} & Y_{22}  \n",
    "    \\end{bmatrix} = \\begin{bmatrix}\n",
    "     X_{11} \\times Y_{11} & X_{12} \\times Y_{12} \\\\ \n",
    "     X_{21} \\times Y_{21} & X_{22} \\times Y_{22}  \n",
    "    \\end{bmatrix}\n",
    "$$\n",
    "\n",
    "**Transposta**: a transposta de uma matriz qualquer **X**, representada por $\\mathbf{X^T}$, é computada como:\n",
    "\n",
    "$$\n",
    "    \\begin{bmatrix}\n",
    "     X_{11} & X_{12} & X_{13} \\\\ \n",
    "     X_{21} & X_{22} & X_{23} \\\\\n",
    "     X_{31} & X_{32} & X_{33}\n",
    "    \\end{bmatrix}^T =\n",
    "     \\begin{bmatrix}\n",
    "     X_{11} & X_{21} & X_{31} \\\\ \n",
    "     X_{12} & X_{22} & X_{32} \\\\\n",
    "     X_{13} & X_{23} & X_{33}\n",
    "    \\end{bmatrix}\n",
    "$$\n",
    "\n",
    "**Multiplicação Matricial**: sejam duas matrizes $\\mathbf{X}$ e $\\mathbf{Y}$, tal que o número de colunas da primeira matriz é igual ao número de linhas da segunda matriz (condição necessária!), a multiplicação $\\mathbf{X} \\times \\mathbf{Y}$ é computada como:\n",
    "\n",
    "$$\n",
    "    \\begin{bmatrix}\n",
    "     X_{11} & X_{12} & X_{13} \\\\ \n",
    "     X_{21} & X_{22} & X_{23}\n",
    "    \\end{bmatrix} \\times \\begin{bmatrix}\n",
    "     Y_{11} & Y_{12} \\\\ \n",
    "     Y_{21} & Y_{22} \\\\ \n",
    "     Y_{31} & Y_{32}\n",
    "    \\end{bmatrix} = \\begin{bmatrix}\n",
    "     X_{11} \\times Y_{11} + X_{12} \\times Y_{21} + X_{13} \\times Y_{31} & X_{11} \\times Y_{12} + X_{12} \\times Y_{22} + X_{13} \\times Y_{32} \\\\ \n",
    "     X_{21} \\times Y_{11} + X_{22} \\times Y_{21} + X_{23} \\times Y_{31} & X_{21} \\times Y_{12} + X_{22} \\times Y_{22} + X_{23} \\times Y_{32}\n",
    "    \\end{bmatrix}\n",
    "$$\n",
    "\n",
    "Todas estas operações (e muitas outras) já estão nativamente incorporadas na biblioteca **Numpy**, e funcionarão perfeitamente contanto que as variáveis utilizadas sejam justamente do tipo específico dessa biblioteca. Além disso, a bibilioteca também dispõe de outras dezenas de complexas operações matemáticas e computacionais, mas que não serão tratadas neste mini-curso.\n",
    "\n",
    "Para mais informações, consulte a [documentação dessa biblioteca](https://docs.scipy.org/doc/numpy-1.14.5/reference/)."
   ]
  },
  {
   "cell_type": "code",
   "execution_count": 5,
   "metadata": {
    "collapsed": false
   },
   "outputs": [
    {
     "name": "stdout",
     "output_type": "stream",
     "text": [
      "Matriz A:\n",
      " [[ 1  3  7]\n",
      " [ 5 -2  0]] \n",
      "Dimensões: (2, 3)\n",
      "\n",
      "Matriz B:\n",
      " [[-3  4  1]\n",
      " [10  0 -1]] \n",
      "Dimensões: (2, 3)\n",
      "\n",
      "---\n",
      "\n",
      "A + B:\n",
      " [[-2  7  8]\n",
      " [15 -2 -1]]\n",
      "\n",
      "A - B:\n",
      " [[ 4 -1  6]\n",
      " [-5 -2  1]]\n",
      "\n",
      "---\n",
      "\n",
      "5*A:\n",
      " [[  5  15  35]\n",
      " [ 25 -10   0]]\n",
      "\n",
      "-B:\n",
      " [[  3  -4  -1]\n",
      " [-10   0   1]]\n",
      "\n",
      "\n",
      "---\n",
      "\n",
      "A .* B:\n",
      " [[-3 12  7]\n",
      " [50  0  0]]\n",
      "\n",
      "---\n",
      "\n",
      "A^T:\n",
      " [[ 1  5]\n",
      " [ 3 -2]\n",
      " [ 7  0]] \n",
      "Dimensões: (3, 2)\n",
      "\n",
      "B^T:\n",
      " [[-3 10]\n",
      " [ 4  0]\n",
      " [ 1 -1]] \n",
      "Dimensões: (3, 2)\n",
      "\n",
      "---\n",
      "\n",
      "A * B^T:\n",
      " [[ 16   3]\n",
      " [-23  50]]\n",
      "Dimensões: (2, 3) * (3, 2)  =  ( 2 , 2 )\n",
      "\n",
      "---\n",
      "\n"
     ]
    }
   ],
   "source": [
    "## OPERAÇÕES MATRICIAIS COM O NUMPY ##\n",
    "## Criando matrizes no Numpy:\n",
    "A = np.array([[1,  3, 7],\n",
    "              [5, -2, 0]])\n",
    "B = np.array([[-3, 4,  1],\n",
    "              [10, 0, -1]])\n",
    "\n",
    "print(\"Matriz A:\\n\", A, \"\\nDimensões:\", A.shape)\n",
    "print()\n",
    "print(\"Matriz B:\\n\", B, \"\\nDimensões:\", B.shape)\n",
    "print(\"\\n---\\n\")\n",
    "\n",
    "## Soma/Subtração de Matrizes\n",
    "print(\"A + B:\\n\", (A + B))\n",
    "print()\n",
    "print(\"A - B:\\n\", (A - B))\n",
    "print(\"\\n---\\n\")\n",
    "\n",
    "## Multiplicação por Escalar\n",
    "print(\"5*A:\\n\", (5 * A))\n",
    "print()\n",
    "print(\"-B:\\n\", (-B))\n",
    "print()\n",
    "print(\"\\n---\\n\")\n",
    "\n",
    "## Multiplicação element-wise de Matrizes (.*)\n",
    "# Obs.: O operador comum de multiplicação, *, é automaticamente interpretado como o operador de multiplicação \n",
    "#       element-wise quando as matrizes possuem a mesma dimensão.\n",
    "print(\"A .* B:\\n\", (A * B))\n",
    "print(\"\\n---\\n\")\n",
    "\n",
    "## Transpostas\n",
    "# Obs.: O numpy já automaticamente computa um atributo \"T\" para cada matriz que armazena sua transposta.\n",
    "print(\"A^T:\\n\", A.T, \"\\nDimensões:\", (A.T.shape))\n",
    "print()\n",
    "print(\"B^T:\\n\", B.T, \"\\nDimensões:\", (B.T.shape))\n",
    "print(\"\\n---\\n\")\n",
    "\n",
    "## Multiplicação Matricial\n",
    "# Obs.: A função que implementa a multiplicação matricial no numpy é a \"np.matmul\"\n",
    "# Obs.2: Note que precisamos utilizar a transposta de B para que as matrizes estejam na condição necessária.\n",
    "print(\"A * B^T:\\n\", np.matmul(A, B.T))\n",
    "print(\"Dimensões:\", A.shape, \"*\", B.T.shape, \" = \", \"(\",A.shape[0], \",\", B.T.shape[1],\")\")\n",
    "print(\"\\n---\\n\")"
   ]
  },
  {
   "cell_type": "markdown",
   "metadata": {},
   "source": [
    "---\n",
    "## Parte 3 - Visualização de Dados"
   ]
  },
  {
   "cell_type": "markdown",
   "metadata": {
    "collapsed": true
   },
   "source": [
    "Nossos algoritmos processam conjuntos de dados grandes com certa facilidade. Visualizar os resultados desse processamento, no entanto, pode não ser tão intuitivo a nós, meros humanos.  \n",
    "\n",
    "Dessa forma, sempre que estamos trabalhando com dados é importante dispor de ferramentas que permitam uma rápida e clara visualização dos resultados de qualquer processamento/manipulação realizada, para que possamos avaliar e interpretar aquilo que os algoritmos estão produzindo.\n",
    "\n",
    "A biblioteca **Matplotlib** é equipada com um conjunto de ferramentas para plotar gráficos e permitir a visualização de grandes conjuntos de dados. Seu funcionamento é relativamente intuitivo, e bastante similar com quase todas as outras bibliotecas de visualização que existem.\n",
    "\n",
    "Para mais informações, consulte a [secção de tutoriais da biblioteca](https://matplotlib.org/2.2.2/tutorials/index.html)."
   ]
  },
  {
   "cell_type": "code",
   "execution_count": 6,
   "metadata": {
    "collapsed": false
   },
   "outputs": [
    {
     "data": {
      "image/png": "[encoded data removed]",
      "text/plain": [
       "<matplotlib.figure.Figure at 0x7f0be0f665c0>"
      ]
     },
     "metadata": {},
     "output_type": "display_data"
    }
   ],
   "source": [
    "## VISUALIZAÇÃO NÃO-CONDICIONADA COM O MATPLOTLIB ##\n",
    "# Obs.: A visualização não-condicionada se refere à plotagem realizada sem nenhum elemento que identifique a que \n",
    "#       classe pertence as observações. É utilizada, principalmente, para analisar a distribuição dos atributos.\n",
    "\n",
    "plt.figure(figsize=[12,5])    # Cria uma figura com tamanho específico\n",
    "    \n",
    "plt.subplot(1,2,1)            # Divide a imagem em dois plots (1 linha e 2 colunas), e modifica o primeiro\n",
    "plt.title(\"Iris Dataset\")\n",
    "plt.xlabel(\"Setal Length\")\n",
    "plt.ylabel(\"Sepal Length\")\n",
    "\n",
    "# A função \"plt.scatter(X, Y)\" plota pontos no espaço com as coordenadas X e Y (dois vetores de mesma dimensão)\n",
    "plt.scatter(X_train[:,0], X_train[:,1], color=\"#00aedb\", edgecolor=\"#2A2A2A\")\n",
    "\n",
    "plt.subplot(1,2,2)            # Divide a imagem em dois plots (1 linha e 2 colunas), e modifica o segundo\n",
    "plt.title(\"Iris Dataset\")\n",
    "plt.xlabel(\"Petal Length\")\n",
    "plt.ylabel(\"Pepal Length\")\n",
    "\n",
    "# A função \"plt.scatter(X, Y)\" plota pontos no espaço com as coordenadas X e Y (dois vetores de mesma dimensão)\n",
    "plt.scatter(X_train[:,2], X_train[:,3], color=\"#00aedb\", edgecolor=\"#2A2A2A\")\n",
    "\n",
    "# Exibe a visualização resultante\n",
    "plt.show()"
   ]
  },
  {
   "cell_type": "code",
   "execution_count": 7,
   "metadata": {
    "collapsed": false
   },
   "outputs": [
    {
     "data": {
      "image/png": "[encoded data removed]",
      "text/plain": [
       "<matplotlib.figure.Figure at 0x7f0bdd64b898>"
      ]
     },
     "metadata": {},
     "output_type": "display_data"
    }
   ],
   "source": [
    "## VISUALIZAÇÃO CONDICIONADA COM O MATPLOTLIB E NUMPY ##\n",
    "# Obs.: A visualização condicionada se refere à plotagem realizada com as observações identificadas por diferentes\n",
    "#       formas e/ou cores. É utilizada, principalmente, para interpretar a distribuição das classes.\n",
    "\n",
    "# Utilizamos a função \"np.where()\" do numpy para identificar os índices de cada classe\n",
    "setosa = np.where(y_train == 0)\n",
    "virginica = np.where(y_train == 1)\n",
    "versicolor = np.where(y_train == 2)\n",
    "\n",
    "plt.figure(figsize=[12,5])    # Cria uma figura com tamanho específico\n",
    "\n",
    "plt.subplot(1,2,1)            # Divide a imagem em dois plots (1 linha e 2 colunas), e modifica o segundo\n",
    "plt.title(\"Iris Dataset\")\n",
    "plt.xlabel(\"Setal Length\")\n",
    "plt.ylabel(\"Sepal Length\")\n",
    "\n",
    "# Dessa vez, utilizamos uma função \"plt.scatter()\" para cada conjunto de classes, e mudamos a cor/formato dos pontos.\n",
    "plt.scatter(X_train[setosa,0], X_train[setosa,1], marker=\"s\", color=\"#00aedb\", edgecolor=\"#2A2A2A\")\n",
    "plt.scatter(X_train[virginica,0], X_train[virginica,1], marker=\"o\", color=\"#00b159\", edgecolor=\"#2A2A2A\")\n",
    "plt.scatter(X_train[versicolor,0], X_train[versicolor,1], marker=\"^\", color=\"#d11141\", edgecolor=\"#2A2A2A\")\n",
    "\n",
    "plt.subplot(1,2,2)            # Divide a imagem em dois plots (1 linha e 2 colunas), e modifica o segundo\n",
    "plt.title(\"Iris Dataset\")\n",
    "plt.xlabel(\"Petal Length\")\n",
    "plt.ylabel(\"Pepal Length\")\n",
    "\n",
    "# Dessa vez, utilizamos uma função \"plt.scatter()\" para cada conjunto de classes, e mudamos a cor/formato dos pontos.\n",
    "plt.scatter(X_train[setosa,2], X_train[setosa,3], marker=\"s\", color=\"#00aedb\", edgecolor=\"#2A2A2A\")\n",
    "plt.scatter(X_train[virginica,2], X_train[virginica,3], marker=\"o\", color=\"#00b159\", edgecolor=\"#2A2A2A\")\n",
    "plt.scatter(X_train[versicolor,2], X_train[versicolor,3], marker=\"^\", color=\"#d11141\", edgecolor=\"#2A2A2A\")\n",
    "\n",
    "# Exibe a visualização resultante\n",
    "plt.show()"
   ]
  }
 ],
 "metadata": {
  "anaconda-cloud": {},
  "kernelspec": {
   "display_name": "Python [conda root]",
   "language": "python",
   "name": "conda-root-py"
  },
  "language_info": {
   "codemirror_mode": {
    "name": "ipython",
    "version": 3
   },
   "file_extension": ".py",
   "mimetype": "text/x-python",
   "name": "python",
   "nbconvert_exporter": "python",
   "pygments_lexer": "ipython3",
   "version": "3.5.2"
  }
 },
 "nbformat": 4,
 "nbformat_minor": 1
}
