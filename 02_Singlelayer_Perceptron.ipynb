{
 "cells": [
  {
   "cell_type": "markdown",
   "metadata": {},
   "source": [
    "# An Introduction to Neural Networks\n",
    "# 02 - Singlelayer Perceptron\n",
    "\n",
    "<p>\n",
    "    Esse é o nosso primeiro tutorial realmente sobre Redes Neurais! Nesse tutorial, iremos estudar a Rede Neural de camada-única mais simples: a Singlelayer Perceptron. <br>Mais específicamente, iremos aprender como:\n",
    "</p>\n",
    "<ul>\n",
    "    <li>Programar e avaliar funções básicas de Redes Neurais</li>\n",
    "    <li>Desenvolver um algoritmo iterativo para treinar uma Rede Neural, adaptando seus pesos;</li>\n",
    "    <li>Utilizar uma Rede Neural para realizar classificação binária em um dataset;</li>\n",
    "    <li>Utilizar uma Rede Neural para realizar classificação multiclasse em um outro dataset;</li>\n",
    "</ul>"
   ]
  },
  {
   "cell_type": "markdown",
   "metadata": {},
   "source": [
    "### Bibliotecas, Variáveis Importantes e Funções Auxiliares"
   ]
  },
  {
   "cell_type": "code",
   "execution_count": 107,
   "metadata": {
    "collapsed": false
   },
   "outputs": [],
   "source": [
    "## BIBLIOTECAS ##\n",
    "import pandas as pd                 # <-- Representação e Manipulação dos Dados\n",
    "import numpy as np                  # <-- Biblioteca para Operações Matriciais e Complexas\n",
    "import matplotlib.pyplot as plt     # <-- Biblioteca para Visualização de Dados\n",
    "\n",
    "## VARIÁVEIS IMPORTANTES ##\n",
    "colorpad = [\"#d11141\", \"#00aedb\", \"#00b159\", \"#f37735\", \"#ffc425\"]\n",
    "colorpadBG = [\"#00aedb50\", \"#d1114150\", \"#00b15950\", \"#f3773550\", \"#ffc42550\"]\n",
    "\n",
    "## FUNÇÕES AUXILIARES ##\n",
    "# Plota um fundo colorido para\n",
    "def plotContour(X, model, theta, nClasses=2):\n",
    "    x_min, x_max = X[:, 0].min() - 1, X[:, 0].max() + 1\n",
    "    y_min, y_max = X[:, 1].min() - 1, X[:, 1].max() + 1\n",
    "    xx, yy = np.meshgrid(np.arange(x_min, x_max, 0.1),\n",
    "                         np.arange(y_min, y_max, 0.1))\n",
    "\n",
    "    Z = model(np.c_[xx.ravel(), yy.ravel()], theta, False) \n",
    "    Z = Z.reshape(xx.shape)\n",
    "\n",
    "    plt.contour(xx, yy, Z, colors=\"#2A2A2A\", linewidths=2)\n",
    "    plt.contourf(xx, yy, Z, levels=range(-1,nClasses), colors=colorpadBG)\n",
    "\n",
    "    \n",
    "# Essa linha abaixo é apenas para que os \n",
    "# plots sejam gerados na mesma célula do código\n",
    "%matplotlib inline"
   ]
  },
  {
   "cell_type": "markdown",
   "metadata": {},
   "source": [
    "### Datasets\n",
    "\n",
    "<p>\n",
    "    Neste tutorial, utilizaremos um dataset artificial, criado apenas para servir como base à explicação dos conceitos relacionados ao treino de Redes Neurais de camada-única. <br>\n",
    "    \n",
    "    O código abaixo já está pronto. Para mais detalhes sobre como resgatar e manipular dados de arquivos, refira-se ao Tutorial 01.\n",
    "</p>"
   ]
  },
  {
   "cell_type": "code",
   "execution_count": 2,
   "metadata": {
    "collapsed": false
   },
   "outputs": [],
   "source": [
    "## CARREGANDO E PRÉ-PROCESSANDO OS DADOS ##\n",
    "# Carregando os dados a partir do arquivo .csv\n",
    "data = pd.read_csv(\"datasets/data_01.csv\")\n",
    "\n",
    "# Armazenando as dimensões dos dados\n",
    "m = data.shape[0]\n",
    "n = data.shape[1]-1\n",
    "\n",
    "# Separação do Conjunto de Treino e Conjunto de Teste\n",
    "trainingSize = int(0.8 * m)\n",
    "indexes = np.random.randint(0, m, m)\n",
    "trainData = data.iloc[indexes[:trainingSize]]\n",
    "testData = data.iloc[indexes[trainingSize:]]\n",
    "\n",
    "# Obtendo matrizes (formato Numpy) correspondentes\n",
    "X_train = trainData.iloc[:,:-1].values\n",
    "y_train = trainData.iloc[:, -1].values\n",
    "\n",
    "X_test = testData.iloc[:,:-1].values\n",
    "y_test = testData.iloc[:, -1].values"
   ]
  },
  {
   "cell_type": "code",
   "execution_count": 121,
   "metadata": {
    "collapsed": false
   },
   "outputs": [
    {
     "data": {
      "image/png": "[encoded data removed]",
      "text/plain": [
       "<matplotlib.figure.Figure at 0x7febc0eccc50>"
      ]
     },
     "metadata": {},
     "output_type": "display_data"
    }
   ],
   "source": [
    "## VISUALIZAÇÃO CONDICIONADA COM O MATPLOTLIB E NUMPY ##\n",
    "plt.figure()\n",
    "\n",
    "a_class = np.where(y_train == \"A\")\n",
    "b_class = np.where(y_train == \"B\")\n",
    "\n",
    "plt.title(\"Artificial Dataset\"); plt.xlabel(\"$X_1$\"); plt.ylabel(\"$X_2$\")\n",
    "\n",
    "plt.scatter(X_train[a_class,0], X_train[a_class,1], marker=\"s\", color=colorpad[0], edgecolor=\"#2A2A2A\", label=\"Class A\")\n",
    "plt.scatter(X_train[b_class,0], X_train[b_class,1], marker=\"o\", color=colorpad[1], edgecolor=\"#2A2A2A\", label=\"Class B\")\n",
    "\n",
    "plt.legend(bbox_to_anchor=(1.05, 1), loc=2, borderaxespad=0.)\n",
    "plt.show()"
   ]
  },
  {
   "cell_type": "markdown",
   "metadata": {},
   "source": [
    "## Parte 1 -  Funções Básicas de Redes Neurais"
   ]
  },
  {
   "cell_type": "markdown",
   "metadata": {},
   "source": [
    "<p>\n",
    "    Como vimos, uma Rede Neural consiste num conjunto de <i>neurônios artificiais</i> interligados por \"sinapses\" que possuem pesos associados. Antes de desenvolvermos os algoritmos que ajustam automaticamente estes pesos, é necessário programar as funções básicas de ativação dos neurônios, e da Rede Neural inteira.<br><br>\n",
    "    \n",
    "    Lembre-se que um neurônio artificial realiza duas computações:\n",
    "    <ul>\n",
    "        <li>Soma ponderada dos sinais de entradas;</li>\n",
    "        <li>Ativação (ou não) do sinal acumulado;</li>\n",
    "    </ul>\n",
    "    \n",
    "    Primeiramente, iremos programar a nossa função de ativação como a sigmoide, representada por: <br> <br>\n",
    "    \n",
    "    $$\n",
    "        g(z) = \\frac{1}{1 + e^{z}}\n",
    "    $$ \n",
    "    <br>\n",
    "    onde $z$ possa ser também um vetor (e nesse caso a função retorna também um vetor). A segunda parte, então, consiste em fazer a função de \"predição\" da SLP, onde os sinais de entrada são ponderados e somados, e então aplicados à função de ativação. Faremos uma condição para que a ativação final possa ter duas formas: a de uma probabilidade (um número real entre 0 e 1) ou seja igual ao número da classe predita (um valor inteiro). <br> <br>\n",
    "    \n",
    "    Lembramos que essa operação pode ser implementada apenas com operações matriciais, reduzindo a complexidade do código. Tente imaginar como seriam essas computações! :)\n",
    "</p>"
   ]
  },
  {
   "cell_type": "code",
   "execution_count": 165,
   "metadata": {
    "collapsed": false
   },
   "outputs": [
    {
     "data": {
      "image/png": "[encoded data removed]",
      "text/plain": [
       "<matplotlib.figure.Figure at 0x7febc0f51ac8>"
      ]
     },
     "metadata": {},
     "output_type": "display_data"
    }
   ],
   "source": [
    "## DEFINIÇÃO DA FUNÇÃO ##\n",
    "def sigmoid(z):\n",
    "    return 1 / (1 + np.exp(-z))\n",
    "\n",
    "## VISUALIZAÇÃO GRÁFICA ##\n",
    "dom = np.linspace(-13, 13)\n",
    "sig = sigmoid(dom)\n",
    "\n",
    "plt.figure()\n",
    "\n",
    "plt.title(\"Sigmoid function\"); plt.xlabel(\"X\"); plt.ylabel(\"Y\")\n",
    "plt.plot(dom, sig, color=colorpad[3])\n",
    "plt.grid()\n",
    "\n",
    "plt.show()"
   ]
  },
  {
   "cell_type": "code",
   "execution_count": 202,
   "metadata": {
    "collapsed": false
   },
   "outputs": [
    {
     "name": "stdout",
     "output_type": "stream",
     "text": [
      "Probability format:\n",
      " [  9.66097606e-07   4.37823499e-01   8.02183889e-01   9.99972464e-01]\n",
      "\n",
      "Classification format:\n",
      " [0 0 1 1]\n"
     ]
    }
   ],
   "source": [
    "## DEFINIÇÃO DA FUNÇÃO ##\n",
    "def slp_predict(X, theta, probs=True):\n",
    "    if(X.shape[1] != theta.shape[1]): \n",
    "        X = np.hstack([np.ones([X.shape[0], 1]), X])\n",
    "\n",
    "    predictions = sigmoid(np.matmul(X, theta.T))[:,0]\n",
    "    \n",
    "    if(probs):\n",
    "        return predictions\n",
    "    else:\n",
    "        return (predictions >= 0.5)\n",
    "    \n",
    "## VISUALIZAÇÃO ##\n",
    "theta = np.array([[4.5, 3, -2.5]])\n",
    "X = np.array([[-2.7,  4.1],\n",
    "              [   1,  3.1],\n",
    "              [ 2.3,  4.0],\n",
    "              [   0, -2.4]])\n",
    "\n",
    "print(\"Probability format:\\n\", slp_predict(X, theta))\n",
    "print()\n",
    "print(\"Classification format:\\n\", slp_predict(X, theta, False).astype(int))"
   ]
  },
  {
   "cell_type": "markdown",
   "metadata": {},
   "source": [
    "## Parte 2 - Treinando a Rede Neural"
   ]
  },
  {
   "cell_type": "code",
   "execution_count": 207,
   "metadata": {
    "collapsed": false
   },
   "outputs": [],
   "source": [
    "def slp_train(X, y, alpha=1e-3, maxIt=50000, tol=1e-5, verbose=False):\n",
    "    m = X.shape[0]; n = X.shape[1]\n",
    "    X = np.hstack([np.ones([m,1]), X])\n",
    "    \n",
    "    errorHist = []\n",
    "    previousMSE = 0\n",
    "    theta = np.random.randn(1, n+1)\n",
    "    \n",
    "    it = 1;\n",
    "    while(it <= maxIt):\n",
    "        predicts = slp_predict(X, theta)\n",
    "        error = predicts - (y == \"A\")\n",
    "        \n",
    "        actualMSE = np.sum(error ** 2)\n",
    "        theta -= (alpha/m) * (np.matmul(X.T, error))\n",
    "        \n",
    "        if(it % 50 == 0 and verbose): \n",
    "            print(\"## Iteration\", it, \"##\")\n",
    "            print(\"Error: \", actualMSE)\n",
    "            print(\"Thetas: \", theta)\n",
    "            print(\"\\n\")\n",
    "        \n",
    "        if(abs(actualMSE - previousMSE) <= tol):\n",
    "            print(\"## Iteration\", it, \"##\")\n",
    "            print(\"Convergence reached!\")\n",
    "            print(\"Error: \", actualMSE)\n",
    "            print(\"Thetas: \", theta)\n",
    "            print(\"\\n\")\n",
    "            break;\n",
    "            \n",
    "        errorHist.append(actualMSE)\n",
    "        previousMSE = actualMSE\n",
    "        it +=1\n",
    "        \n",
    "    return (theta, errorHist)"
   ]
  },
  {
   "cell_type": "markdown",
   "metadata": {},
   "source": [
    "## Part 3 - Binary Classification with SLP"
   ]
  },
  {
   "cell_type": "code",
   "execution_count": 211,
   "metadata": {
    "collapsed": false
   },
   "outputs": [
    {
     "name": "stdout",
     "output_type": "stream",
     "text": [
      "## Iteration 30055 ##\n",
      "Convergence reached!\n",
      "Error:  15.7710998906\n",
      "Thetas:  [[ 3.66969937 -0.4486314  -0.43624248]]\n",
      "\n",
      "\n"
     ]
    }
   ],
   "source": [
    "[theta, errorHist] = slp_train(X_train, y_train, alpha=0.01)"
   ]
  },
  {
   "cell_type": "code",
   "execution_count": 212,
   "metadata": {
    "collapsed": false
   },
   "outputs": [
    {
     "data": {
      "image/png": "[encoded data removed]",
      "text/plain": [
       "<matplotlib.figure.Figure at 0x7febc0d7a5f8>"
      ]
     },
     "metadata": {},
     "output_type": "display_data"
    }
   ],
   "source": [
    "plt.figure()\n",
    "plt.plot(errorHist)\n",
    "plt.show()"
   ]
  },
  {
   "cell_type": "code",
   "execution_count": 213,
   "metadata": {
    "collapsed": false
   },
   "outputs": [
    {
     "data": {
      "image/png": "[encoded data removed]",
      "text/plain": [
       "<matplotlib.figure.Figure at 0x7febc106a748>"
      ]
     },
     "metadata": {},
     "output_type": "display_data"
    }
   ],
   "source": [
    "## VISUALIZAÇÃO DA CLASSIFICAÇÃO ##\n",
    "plt.figure()\n",
    "\n",
    "plt.title(\"Artificial Dataset\"); plt.xlabel(\"$X_1$\"); plt.ylabel(\"$X_2$\")\n",
    "\n",
    "plotContour(X_train, slp_predict, theta)\n",
    "\n",
    "a_class = np.where(y_train == \"A\")\n",
    "b_class = np.where(y_train == \"B\")\n",
    "\n",
    "plt.scatter(X_train[a_class,0], X_train[a_class,1], marker=\"s\", color=colorpad[0], edgecolor=\"#2A2A2A\", label=\"Class A\")\n",
    "plt.scatter(X_train[b_class,0], X_train[b_class,1], marker=\"o\", color=colorpad[1], edgecolor=\"#2A2A2A\", label=\"Class B\")\n",
    "\n",
    "plt.legend(bbox_to_anchor=(1.05, 1), loc=2, borderaxespad=0.)\n",
    "plt.show()"
   ]
  }
 ],
 "metadata": {
  "anaconda-cloud": {},
  "kernelspec": {
   "display_name": "Python [conda root]",
   "language": "python",
   "name": "conda-root-py"
  },
  "language_info": {
   "codemirror_mode": {
    "name": "ipython",
    "version": 3
   },
   "file_extension": ".py",
   "mimetype": "text/x-python",
   "name": "python",
   "nbconvert_exporter": "python",
   "pygments_lexer": "ipython3",
   "version": "3.5.2"
  }
 },
 "nbformat": 4,
 "nbformat_minor": 1
}
